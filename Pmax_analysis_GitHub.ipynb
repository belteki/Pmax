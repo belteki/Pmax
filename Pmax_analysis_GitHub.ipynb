{
 "cells": [
  {
   "cell_type": "markdown",
   "metadata": {},
   "source": [
    "![alt text](./pageheader_rose2_babies.jpg)"
   ]
  },
  {
   "cell_type": "markdown",
   "metadata": {},
   "source": [
    "# Analysis of Pmax in leak-compensated SIPPV-VG recordings"
   ]
  },
  {
   "cell_type": "markdown",
   "metadata": {},
   "source": [
    "#### Author: Dr Gusztav Belteki"
   ]
  },
  {
   "cell_type": "markdown",
   "metadata": {},
   "source": [
    "This Notebook analyses the difference between Pmax and PIP and how it affects tidal volume delivery and alarm activity"
   ]
  },
  {
   "cell_type": "markdown",
   "metadata": {},
   "source": [
    "### Importing the necessary libraries and setting options"
   ]
  },
  {
   "cell_type": "code",
   "execution_count": null,
   "metadata": {},
   "outputs": [],
   "source": [
    "import IPython\n",
    "import pandas as pd\n",
    "import numpy as np\n",
    "import matplotlib\n",
    "import matplotlib.pyplot as plt\n",
    "# import seaborn as sns\n",
    "import os\n",
    "import sys\n",
    "import pickle\n",
    "import scipy as sp\n",
    "from scipy import stats\n",
    "from pandas import Series, DataFrame\n",
    "from datetime import datetime, timedelta\n",
    "\n",
    "%matplotlib inline\n",
    "matplotlib.style.use('classic')\n",
    "matplotlib.rcParams['figure.facecolor'] = 'w'\n",
    "\n",
    "pd.set_option('display.max_rows', 100)\n",
    "pd.set_option('display.max_columns', 100)\n",
    "# pd.set_option('mode.chained_assignment', None) "
   ]
  },
  {
   "cell_type": "markdown",
   "metadata": {},
   "source": [
    "### Importing custom functions from own module"
   ]
  },
  {
   "cell_type": "code",
   "execution_count": null,
   "metadata": {},
   "outputs": [],
   "source": [
    "from gb_loader import *\n",
    "from gb_transform import *\n",
    "from gb_stats import *\n",
    "from gb_visualizer import *"
   ]
  },
  {
   "cell_type": "code",
   "execution_count": null,
   "metadata": {},
   "outputs": [],
   "source": [
    "print(\"Python version: {}\".format(sys.version))\n",
    "print(\"IPython version: {}\".format(IPython.__version__))\n",
    "print(\"pandas version: {}\".format(pd.__version__))\n",
    "print(\"matplotlib version: {}\".format(matplotlib.__version__))\n",
    "print(\"NumPy version: {}\".format(np.__version__))\n",
    "print(\"SciPy version: {}\".format(sp.__version__))"
   ]
  },
  {
   "cell_type": "markdown",
   "metadata": {},
   "source": [
    "### List and set the working directory and the directory to write out data"
   ]
  },
  {
   "cell_type": "code",
   "execution_count": null,
   "metadata": {},
   "outputs": [],
   "source": [
    "# Topic of the Notebook which will also be the name of the subfolder containing results\n",
    "TOPIC = 'Pmax'\n",
    "\n",
    "# Name of the external hard drive\n",
    "DRIVE = 'GUSZTI'\n",
    "\n",
    "# Directory containing clinical and blood gas data\n",
    "CWD = '/Users/guszti/ventilation_draeger'\n",
    "\n",
    "# Serialised data will be read from this folder of hard drive\n",
    "DIR_READ_1 = '/Volumes/%s/data_dump/draeger/%s' % (DRIVE, 'VG')\n",
    "\n",
    "# Directory on external drive to read the clinical data from\n",
    "DIR_READ_2 = '/Users/guszti/ventilation_draeger'  \n",
    "\n",
    "# Directory on external drive to read the original data from\n",
    "DIR_READ_3 = '/Volumes/%s/Draeger/service_evaluation_old' % DRIVE  \n",
    "\n",
    "# Directory to write results and selected images to \n",
    "if not os.path.isdir('%s/%s/%s' % (CWD, 'Analyses', TOPIC)):\n",
    "    os.makedirs('%s/%s/%s' % (CWD, 'Analyses', TOPIC))\n",
    "DIR_WRITE = '%s/%s/%s' % (CWD, 'Analyses', TOPIC)\n",
    "\n",
    "# Images and raw data will be written on an external hard drive\n",
    "if not os.path.isdir('/Volumes/%s/data_dump/draeger/%s' % (DRIVE, TOPIC)):\n",
    "    os.makedirs('/Volumes/%s/data_dump/draeger/%s' % (DRIVE, TOPIC))\n",
    "DATA_DUMP = '/Volumes/%s/data_dump/draeger/%s' % (DRIVE, TOPIC)"
   ]
  },
  {
   "cell_type": "code",
   "execution_count": null,
   "metadata": {},
   "outputs": [],
   "source": [
    "os.chdir(CWD)\n",
    "os.getcwd()"
   ]
  },
  {
   "cell_type": "code",
   "execution_count": null,
   "metadata": {},
   "outputs": [],
   "source": [
    "DIR_READ_1"
   ]
  },
  {
   "cell_type": "code",
   "execution_count": null,
   "metadata": {},
   "outputs": [],
   "source": [
    "DIR_READ_2"
   ]
  },
  {
   "cell_type": "code",
   "execution_count": null,
   "metadata": {},
   "outputs": [],
   "source": [
    "DIR_READ_3"
   ]
  },
  {
   "cell_type": "code",
   "execution_count": null,
   "metadata": {},
   "outputs": [],
   "source": [
    "DIR_WRITE"
   ]
  },
  {
   "cell_type": "code",
   "execution_count": null,
   "metadata": {},
   "outputs": [],
   "source": [
    "DATA_DUMP"
   ]
  },
  {
   "cell_type": "markdown",
   "metadata": {},
   "source": [
    "## Import ventilator data"
   ]
  },
  {
   "cell_type": "markdown",
   "metadata": {},
   "source": [
    "### Import 'slow_measurements' data from pickle archive"
   ]
  },
  {
   "cell_type": "code",
   "execution_count": null,
   "metadata": {},
   "outputs": [],
   "source": [
    "with open('%s/%s.pickle' % (DIR_READ_1, 'slow_measurements_sippv_vg_lc_1'), 'rb') as handle:\n",
    "    slow_measurements_1 = pickle.load(handle)\n",
    "\n",
    "with open('%s/%s.pickle' % (DIR_READ_1, 'slow_measurements_sippv_vg_lc_2'), 'rb') as handle:\n",
    "    slow_measurements_2 = pickle.load(handle)"
   ]
  },
  {
   "cell_type": "code",
   "execution_count": null,
   "metadata": {},
   "outputs": [],
   "source": [
    "slow_measurements = {**slow_measurements_1, **slow_measurements_2}\n",
    "del slow_measurements_1; del slow_measurements_2"
   ]
  },
  {
   "cell_type": "code",
   "execution_count": null,
   "metadata": {},
   "outputs": [],
   "source": [
    "len(slow_measurements)"
   ]
  },
  {
   "cell_type": "code",
   "execution_count": null,
   "metadata": {
    "scrolled": true
   },
   "outputs": [],
   "source": [
    "recordings = sorted(slow_measurements.keys())\n",
    "print(recordings)"
   ]
  },
  {
   "cell_type": "markdown",
   "metadata": {},
   "source": [
    "### Remove recordings which were < 12 hours duration\n",
    "\n",
    "*DG017* did not have 12 hours **continuous** SIPPV-VG recording as it had HFOV periods and SIPPV without VG in between. Therefore, we remove it from the recordings."
   ]
  },
  {
   "cell_type": "code",
   "execution_count": null,
   "metadata": {},
   "outputs": [],
   "source": [
    "del slow_measurements['DG017']\n",
    "recordings = sorted(slow_measurements.keys())"
   ]
  },
  {
   "cell_type": "markdown",
   "metadata": {},
   "source": [
    "### Remove the only recording where muscle relaxation was used (DG018_1)"
   ]
  },
  {
   "cell_type": "code",
   "execution_count": null,
   "metadata": {},
   "outputs": [],
   "source": [
    "del slow_measurements['DG018_1']\n",
    "recordings = sorted(slow_measurements.keys())"
   ]
  },
  {
   "cell_type": "code",
   "execution_count": null,
   "metadata": {
    "scrolled": true
   },
   "outputs": [],
   "source": [
    "len(recordings)"
   ]
  },
  {
   "cell_type": "markdown",
   "metadata": {},
   "source": [
    "### Combine DataFrames with selected parameters into one"
   ]
  },
  {
   "cell_type": "code",
   "execution_count": null,
   "metadata": {},
   "outputs": [],
   "source": [
    "columns_to_keep = ['recording', 'VTmand_kg', 'VTset_kg', 'VT_diff', 'PIP',  'Pmax',  'P_diff',\n",
    "                    'RR', 'RR_set', 'leak%']\n",
    "total = []\n",
    "for recording in recordings:\n",
    "    total.append(slow_measurements[recording][columns_to_keep])\n",
    "slow_measurements_all = pd.concat(total)    "
   ]
  },
  {
   "cell_type": "code",
   "execution_count": null,
   "metadata": {},
   "outputs": [],
   "source": [
    "print(sorted(slow_measurements_all['recording'].unique()))"
   ]
  },
  {
   "cell_type": "code",
   "execution_count": null,
   "metadata": {},
   "outputs": [],
   "source": [
    "len(sorted(slow_measurements_all['recording'].unique()))"
   ]
  },
  {
   "cell_type": "markdown",
   "metadata": {},
   "source": [
    "### Import clinical details for these recordings"
   ]
  },
  {
   "cell_type": "code",
   "execution_count": null,
   "metadata": {},
   "outputs": [],
   "source": [
    "clinical_details = pd.read_excel('%s/data_grabber_patient_data_combined_all.xlsx' % DIR_READ_2)\n",
    "clinical_details.index = clinical_details['Recording']"
   ]
  },
  {
   "cell_type": "code",
   "execution_count": null,
   "metadata": {},
   "outputs": [],
   "source": [
    "# This is needed if we only want to consider a subset of the recordings\n",
    "clinical_details = clinical_details.reindex(recordings)"
   ]
  },
  {
   "cell_type": "code",
   "execution_count": null,
   "metadata": {},
   "outputs": [],
   "source": [
    "clinical_details['Recording start'] = pd.to_datetime(clinical_details['Recording period'].apply(lambda x: x[:10]),\n",
    "                dayfirst = True)\n",
    "clinical_details['Recording end'] = pd.to_datetime(clinical_details['Recording period'].apply(lambda x: x[11:]),\n",
    "                dayfirst = True)\n",
    "clinical_details['Postnatal age'] = clinical_details['Recording start'] - clinical_details['Date of birth']\n",
    "clinical_details['Corrected gestation'] = clinical_details['Gestation'] + \\\n",
    "                clinical_details['Postnatal age'].astype(int) / (1E+9 * 3600 * 24 * 7)\n",
    "clinical_details['Corrected gestation'] = round(clinical_details['Corrected gestation'], 2)"
   ]
  },
  {
   "cell_type": "code",
   "execution_count": null,
   "metadata": {
    "scrolled": true
   },
   "outputs": [],
   "source": [
    "clinical_details.info()"
   ]
  },
  {
   "cell_type": "code",
   "execution_count": null,
   "metadata": {},
   "outputs": [],
   "source": [
    "writer = pd.ExcelWriter('%s/%s' % (DIR_WRITE, 'clinical_details.xlsx'))\n",
    "clinical_details.to_excel(writer,'clinical details')\n",
    "writer.save()"
   ]
  },
  {
   "cell_type": "code",
   "execution_count": null,
   "metadata": {
    "scrolled": false
   },
   "outputs": [],
   "source": [
    "pars = ['Gestation', 'Corrected gestation', 'Birth weight', 'Current weight']\n",
    "\n",
    "clinical_details_stats = round(DataFrame([clinical_details[pars].median(),\n",
    "                                     clinical_details[pars].min(),\n",
    "                                     clinical_details[pars].max()]).T, 2)\n",
    "clinical_details_stats.columns = ['median', 'min', 'max']\n",
    "# clinical_details_stats = np.floor(clinical_details_stats)"
   ]
  },
  {
   "cell_type": "code",
   "execution_count": null,
   "metadata": {},
   "outputs": [],
   "source": [
    "clinical_details_stats"
   ]
  },
  {
   "cell_type": "code",
   "execution_count": null,
   "metadata": {},
   "outputs": [],
   "source": [
    "writer = pd.ExcelWriter('%s/%s' % (DIR_WRITE, 'clinical_details_stats.xlsx'))\n",
    "clinical_details_stats.to_excel(writer,'clinical details')\n",
    "writer.save()"
   ]
  },
  {
   "cell_type": "code",
   "execution_count": null,
   "metadata": {},
   "outputs": [],
   "source": [
    "sum(np.floor(clinical_details['Gestation']) <= 27)"
   ]
  },
  {
   "cell_type": "code",
   "execution_count": null,
   "metadata": {},
   "outputs": [],
   "source": [
    "sum(np.floor(clinical_details['Gestation']) <= 32)"
   ]
  },
  {
   "cell_type": "code",
   "execution_count": null,
   "metadata": {},
   "outputs": [],
   "source": [
    "sum(np.floor(clinical_details['Gestation']) <= 36)"
   ]
  },
  {
   "cell_type": "markdown",
   "metadata": {},
   "source": [
    "### Length of recordings"
   ]
  },
  {
   "cell_type": "code",
   "execution_count": null,
   "metadata": {},
   "outputs": [],
   "source": [
    "recording_duration = {}\n",
    "for recording in recordings:\n",
    "    recording_duration[recording] = len(slow_measurements[recording])\n",
    "\n",
    "recording_duration = DataFrame([recording_duration]).T\n",
    "recording_duration.columns = ['seconds']\n",
    "recording_duration;"
   ]
  },
  {
   "cell_type": "markdown",
   "metadata": {},
   "source": [
    "### Remove missing data"
   ]
  },
  {
   "cell_type": "code",
   "execution_count": null,
   "metadata": {},
   "outputs": [],
   "source": [
    "slow_measurements_all.isnull().sum().sort_values()"
   ]
  },
  {
   "cell_type": "code",
   "execution_count": null,
   "metadata": {},
   "outputs": [],
   "source": [
    "# What proportion of the data missing in the various columns\n",
    "slow_measurements_all.isnull().sum().sort_values() / len(slow_measurements_all)"
   ]
  },
  {
   "cell_type": "code",
   "execution_count": null,
   "metadata": {},
   "outputs": [],
   "source": [
    "# This represent only a couple percentage of the data and can be removed\n",
    "\n",
    "a = len(slow_measurements_all)\n",
    "print('Before removal: %d rows' % a)\n",
    "\n",
    "slow_measurements_all.dropna(inplace = True)\n",
    "\n",
    "b = len(slow_measurements_all)\n",
    "print('After removal: %d rows' % b)\n",
    "print('Removed %d rows' % (a-b))\n",
    "print('Removed %.3f percent of the rows' % ((a-b) / a * 100))"
   ]
  },
  {
   "cell_type": "code",
   "execution_count": null,
   "metadata": {},
   "outputs": [],
   "source": [
    "# Now there are no missing data\n",
    "slow_measurements_all.isnull().sum().sort_values()"
   ]
  },
  {
   "cell_type": "markdown",
   "metadata": {},
   "source": [
    "### Remove those rows where  VTmand_kg > 20 mL/kg or when RR > 120 mL/kg as these seem to be outliers (probably the circuit was open or sensor problems) rather than reflecting real effective or expiratory tidal volumes"
   ]
  },
  {
   "cell_type": "code",
   "execution_count": null,
   "metadata": {},
   "outputs": [],
   "source": [
    "c = len(slow_measurements_all)\n",
    "print('Before removal: %d rows' % c)\n",
    " \n",
    "slow_measurements_all = slow_measurements_all[slow_measurements_all['VTmand_kg'] <= 20]\n",
    "slow_measurements_all = slow_measurements_all[slow_measurements_all['RR'] <= 120]\n",
    "\n",
    "d = len(slow_measurements_all)\n",
    "print('After removal: %d rows' % d)\n",
    "print('Removed %d rows' % (c-d))\n",
    "print('Removed %.3f percent of the rows' % ((c-d) / a * 100))"
   ]
  },
  {
   "cell_type": "markdown",
   "metadata": {},
   "source": [
    "### Individual and combined length of the recordings after the cleanup"
   ]
  },
  {
   "cell_type": "code",
   "execution_count": null,
   "metadata": {},
   "outputs": [],
   "source": [
    "recording_duration = {}\n",
    "for recording in recordings:\n",
    "    recording_duration[recording] = len(slow_measurements[recording])\n",
    "\n",
    "recording_duration = DataFrame([recording_duration]).T\n",
    "recording_duration.columns = ['seconds']\n",
    "recording_duration"
   ]
  },
  {
   "cell_type": "code",
   "execution_count": null,
   "metadata": {},
   "outputs": [],
   "source": [
    "recording_time_total = recording_duration.sum()[0]"
   ]
  },
  {
   "cell_type": "code",
   "execution_count": null,
   "metadata": {},
   "outputs": [],
   "source": [
    "print('total recoding time = %d seconds' % recording_time_total)\n",
    "print('total recoding time = %.2f hours' % (recording_time_total / 3600))\n",
    "print('total recoding time = %.2f days' % (recording_time_total / (3600 * 24)))\n",
    "print('mean recoding time = %.2f hours' % ((recording_time_total / 3600) / len(recordings)))\n",
    "print('median recoding time = %.2f hours' % (recording_duration.median() / 3600))"
   ]
  },
  {
   "cell_type": "code",
   "execution_count": null,
   "metadata": {},
   "outputs": [],
   "source": [
    "# Write results to Excel file\n",
    "writer = pd.ExcelWriter('%s/%s' % (DIR_WRITE, 'recording_duration_Pmax.xlsx'))\n",
    "recording_duration.to_excel(writer,'recording_duration')\n",
    "writer.save()"
   ]
  },
  {
   "cell_type": "markdown",
   "metadata": {},
   "source": [
    "## Exploratory data analysis on the final combined dataset"
   ]
  },
  {
   "cell_type": "code",
   "execution_count": null,
   "metadata": {},
   "outputs": [],
   "source": [
    "len(slow_measurements_all)"
   ]
  },
  {
   "cell_type": "code",
   "execution_count": null,
   "metadata": {},
   "outputs": [],
   "source": [
    "slow_measurements_all.set_index('recording', append = True, inplace = True)"
   ]
  },
  {
   "cell_type": "code",
   "execution_count": null,
   "metadata": {},
   "outputs": [],
   "source": [
    "slow_measurements_all = slow_measurements_all.swaplevel(1,0)"
   ]
  },
  {
   "cell_type": "code",
   "execution_count": null,
   "metadata": {},
   "outputs": [],
   "source": [
    "slow_measurements_all.head()"
   ]
  },
  {
   "cell_type": "code",
   "execution_count": null,
   "metadata": {},
   "outputs": [],
   "source": [
    "slow_measurements_all.info()"
   ]
  },
  {
   "cell_type": "markdown",
   "metadata": {},
   "source": [
    "### Range and distribution of Respiratory rate"
   ]
  },
  {
   "cell_type": "code",
   "execution_count": null,
   "metadata": {},
   "outputs": [],
   "source": [
    "bins = list(np.arange(0, 121, 5))\n",
    "\n",
    "cats_RR = pd.cut(slow_measurements_all['RR'], \n",
    "                              bins = bins, right = False)\n",
    "cats_RR.value_counts().sort_index()"
   ]
  },
  {
   "cell_type": "code",
   "execution_count": null,
   "metadata": {},
   "outputs": [],
   "source": [
    "(cats_RR.value_counts() / len(cats_RR)) * 100"
   ]
  },
  {
   "cell_type": "code",
   "execution_count": null,
   "metadata": {
    "scrolled": false
   },
   "outputs": [],
   "source": [
    "fig, ax = plt.subplots(figsize = [8,6])\n",
    "cats_RR.value_counts().sort_index().plot(kind = 'bar', logy = False, \n",
    "                        title = 'RR', color = 'black', alpha = 0.7, fontsize = 14)\n",
    "ax.set_xlabel('range (1/min)', size = 14)\n",
    "ax.set_ylabel('number of inflations', size = 14)\n",
    "plt.title('RR', fontsize = 16)\n",
    "plt.grid('on')\n",
    "plt.tight_layout()\n",
    "\n",
    "fig.savefig('%s/%s.%s' % (DIR_WRITE, 'RR_distribution', 'jpg'),\n",
    "    dpi = 200, facecolor='w', edgecolor='w', orientation='portrait', papertype=None, format = 'jpg',\n",
    "    transparent=False, bbox_inches=None, pad_inches=0.1, frameon=True);"
   ]
  },
  {
   "cell_type": "code",
   "execution_count": null,
   "metadata": {
    "scrolled": false
   },
   "outputs": [],
   "source": [
    "fig, ax = plt.subplots(figsize = [8,6])\n",
    "cats_RR.value_counts().sort_index().plot(kind = 'bar', logy = True, \n",
    "                        title = 'RR', color = 'black', alpha = 0.7, fontsize = 14)\n",
    "ax.set_xlabel('range (1/min)', size = 14)\n",
    "ax.set_ylabel('number of inflations', size = 14)\n",
    "plt.title('RR', fontsize = 16)\n",
    "plt.grid('on')\n",
    "plt.tight_layout()\n",
    "\n",
    "fig.savefig('%s/%s.%s' % (DIR_WRITE, 'RR_distribution_log', 'jpg'),\n",
    "    dpi = 200, facecolor='w', edgecolor='w', orientation='portrait', papertype=None, format = 'jpg',\n",
    "    transparent=False, bbox_inches=None, pad_inches=0.1, frameon=True);"
   ]
  },
  {
   "cell_type": "markdown",
   "metadata": {},
   "source": [
    "### Range and distribution of VTmand"
   ]
  },
  {
   "cell_type": "code",
   "execution_count": null,
   "metadata": {},
   "outputs": [],
   "source": [
    "bins = np.arange(0, 21, 1)\n",
    "\n",
    "cats_VTmand = pd.cut(slow_measurements_all['VTmand_kg'], \n",
    "                              bins = bins, right = False)\n",
    "cats_VTmand.value_counts().sort_index()"
   ]
  },
  {
   "cell_type": "code",
   "execution_count": null,
   "metadata": {},
   "outputs": [],
   "source": [
    "(cats_VTmand.value_counts() / len(cats_VTmand)) * 100"
   ]
  },
  {
   "cell_type": "code",
   "execution_count": null,
   "metadata": {},
   "outputs": [],
   "source": [
    "fig, ax = plt.subplots(figsize = [8,6])\n",
    "cats_VTmand.value_counts().sort_index().plot(kind = 'bar', logy = False, \n",
    "                        title = 'VTmand', color = 'black', alpha = 0.7, fontsize = 14)\n",
    "ax.set_xlabel('range (mL/kg)', size = 14)\n",
    "ax.set_ylabel('number of inflations', size = 14)\n",
    "plt.title('VTmand', fontsize = 16)\n",
    "plt.grid('on')\n",
    "plt.tight_layout()\n",
    "\n",
    "fig.savefig('%s/%s.%s' % (DIR_WRITE, 'VTmand_distribution', 'jpg'),\n",
    "    dpi = 200, facecolor='w', edgecolor='w', orientation='portrait', papertype=None, format = 'jpg',\n",
    "    transparent=False, bbox_inches=None, pad_inches=0.1, frameon=True);"
   ]
  },
  {
   "cell_type": "code",
   "execution_count": null,
   "metadata": {},
   "outputs": [],
   "source": [
    "fig, ax = plt.subplots(figsize = [8,6])\n",
    "cats_VTmand.value_counts().sort_index().plot(kind = 'bar', logy = True, \n",
    "                        title = 'VTmand', color = 'black', alpha = 0.7, fontsize = 14)\n",
    "ax.set_xlabel('range (mL/kg)', size = 14)\n",
    "ax.set_ylabel('number of inflations', size = 14)\n",
    "plt.title('VTmand', fontsize = 16)\n",
    "plt.grid('on')\n",
    "plt.tight_layout()\n",
    "\n",
    "fig.savefig('%s/%s.%s' % (DIR_WRITE, 'VTmand_distribution_log', 'jpg'),\n",
    "    dpi = 200, facecolor='w', edgecolor='w', orientation='portrait', papertype=None, format = 'jpg',\n",
    "    transparent=False, bbox_inches=None, pad_inches=0.1, frameon=True);"
   ]
  },
  {
   "cell_type": "markdown",
   "metadata": {},
   "source": [
    "### Range and distribution of VTdiff"
   ]
  },
  {
   "cell_type": "code",
   "execution_count": null,
   "metadata": {},
   "outputs": [],
   "source": [
    "bins = np.arange(-6, 17, 1)\n",
    "\n",
    "cats_VTdiff = pd.cut(slow_measurements_all['VT_diff'], \n",
    "                              bins = bins, right = False)\n",
    "cats_VTdiff.value_counts().sort_index()"
   ]
  },
  {
   "cell_type": "code",
   "execution_count": null,
   "metadata": {},
   "outputs": [],
   "source": [
    "(cats_VTdiff.value_counts() / len(cats_VTdiff)) * 100"
   ]
  },
  {
   "cell_type": "code",
   "execution_count": null,
   "metadata": {},
   "outputs": [],
   "source": [
    "fig, ax = plt.subplots(figsize = [8,6])\n",
    "cats_VTdiff.value_counts().sort_index().plot(kind = 'bar', logy = False, \n",
    "                        title = 'VT_diff', color = 'black', alpha = 0.7, fontsize = 14)\n",
    "ax.set_xlabel('range (mL/kg)', size = 14)\n",
    "ax.set_ylabel('number of inflations', size = 14)\n",
    "plt.title('VTdiff', fontsize = 16)\n",
    "plt.grid('on')\n",
    "plt.tight_layout()\n",
    "\n",
    "fig.savefig('%s/%s.%s' % (DIR_WRITE, 'VTdiff_distribution', 'jpg'),\n",
    "    dpi = 200, facecolor='w', edgecolor='w', orientation='portrait', papertype=None, format = 'jpg',\n",
    "    transparent=False, bbox_inches=None, pad_inches=0.1, frameon=True);"
   ]
  },
  {
   "cell_type": "code",
   "execution_count": null,
   "metadata": {},
   "outputs": [],
   "source": [
    "fig, ax = plt.subplots(figsize = [8,6])\n",
    "cats_VTdiff.value_counts().sort_index().plot(kind = 'bar', logy = True, \n",
    "                        title = 'VT_diff', color = 'black', alpha = 0.7, fontsize = 14)\n",
    "ax.set_xlabel('range (mL/kg)', size = 14)\n",
    "ax.set_ylabel('number of inflations', size = 14)\n",
    "plt.title('VTdiff', fontsize = 16)\n",
    "plt.grid('on')\n",
    "plt.tight_layout()\n",
    "\n",
    "fig.savefig('%s/%s.%s' % (DIR_WRITE, 'VTdiff_distribution_log', 'jpg'),\n",
    "    dpi = 200, facecolor='w', edgecolor='w', orientation='portrait', papertype=None, format = 'jpg',\n",
    "    transparent=False, bbox_inches=None, pad_inches=0.1, frameon=True);"
   ]
  },
  {
   "cell_type": "code",
   "execution_count": null,
   "metadata": {},
   "outputs": [],
   "source": [
    "bins = list(np.arange(-4, 5, 1))\n",
    "\n",
    "cats_VTdiff = pd.cut(slow_measurements_all['VT_diff'], \n",
    "                              bins = bins, right = False)\n",
    "cats_VTdiff.value_counts().sort_index()"
   ]
  },
  {
   "cell_type": "code",
   "execution_count": null,
   "metadata": {},
   "outputs": [],
   "source": [
    "(cats_VTdiff.value_counts() / len(cats_VTdiff)) * 100"
   ]
  },
  {
   "cell_type": "code",
   "execution_count": null,
   "metadata": {},
   "outputs": [],
   "source": [
    "fig, ax = plt.subplots(figsize = [8,6])\n",
    "cats_VTdiff.value_counts().sort_index().plot(kind = 'bar', logy = False, \n",
    "                        title = 'VT_diff', color = 'black', alpha = 0.7, fontsize = 14)\n",
    "ax.set_xlabel('range (mL/kg)', size = 14)\n",
    "ax.set_ylabel('number of inflations', size = 14)\n",
    "plt.title('VTdiff', fontsize = 16)\n",
    "plt.grid('on')\n",
    "plt.tight_layout()\n",
    "\n",
    "fig.savefig('%s/%s.%s' % (DIR_WRITE, 'VTdiff_distribution_2', 'jpg'),\n",
    "    dpi = 200, facecolor='w', edgecolor='w', orientation='portrait', papertype=None, format = 'jpg',\n",
    "    transparent=False, bbox_inches=None, pad_inches=0.1, frameon=True);"
   ]
  },
  {
   "cell_type": "code",
   "execution_count": null,
   "metadata": {},
   "outputs": [],
   "source": [
    "fig, ax = plt.subplots(figsize = [8,6])\n",
    "cats_VTdiff.value_counts().sort_index().plot(kind = 'bar', logy = True, \n",
    "                        title = 'VT_diff', color = 'black', alpha = 0.7, fontsize = 14)\n",
    "ax.set_xlabel('range (mL/kg)', size = 14)\n",
    "ax.set_ylabel('number of inflations', size = 14)\n",
    "plt.title('VTdiff', fontsize = 16)\n",
    "plt.grid('on')\n",
    "plt.tight_layout()\n",
    "\n",
    "fig.savefig('%s/%s.%s' % (DIR_WRITE, 'VTdiff_distribution_2_log', 'jpg'),\n",
    "    dpi = 200, facecolor='w', edgecolor='w', orientation='portrait', papertype=None, format = 'jpg',\n",
    "    transparent=False, bbox_inches=None, pad_inches=0.1, frameon=True);"
   ]
  },
  {
   "cell_type": "markdown",
   "metadata": {},
   "source": [
    "### Range and distribution of PIP"
   ]
  },
  {
   "cell_type": "code",
   "execution_count": null,
   "metadata": {},
   "outputs": [],
   "source": [
    "bins = np.arange(0, 51, 2.5)\n",
    "\n",
    "cats_PIP = pd.cut(slow_measurements_all['PIP'], \n",
    "                              bins = bins, right = False)\n",
    "cats_PIP.value_counts().sort_index()"
   ]
  },
  {
   "cell_type": "code",
   "execution_count": null,
   "metadata": {},
   "outputs": [],
   "source": [
    "(cats_PIP.value_counts() / len(cats_PIP)) * 100"
   ]
  },
  {
   "cell_type": "code",
   "execution_count": null,
   "metadata": {},
   "outputs": [],
   "source": [
    "fig, ax = plt.subplots(figsize = [8,6])\n",
    "cats_PIP.value_counts().sort_index().plot(kind = 'bar', logy = False, \n",
    "                        title = 'PIP', color = 'black', alpha = 0.7, fontsize = 14)\n",
    "ax.set_xlabel('range (mbar)', size = 14)\n",
    "ax.set_ylabel('number of inflations', size = 14)\n",
    "plt.title('PIP', fontsize = 16)\n",
    "plt.grid('on')\n",
    "plt.tight_layout()\n",
    "\n",
    "fig.savefig('%s/%s.%s' % (DIR_WRITE, 'PIP_distribution', 'jpg'),\n",
    "    dpi = 200, facecolor='w', edgecolor='w', orientation='portrait', papertype=None, format = 'jpg',\n",
    "    transparent=False, bbox_inches=None, pad_inches=0.1, frameon=True);"
   ]
  },
  {
   "cell_type": "code",
   "execution_count": null,
   "metadata": {},
   "outputs": [],
   "source": [
    "fig, ax = plt.subplots(figsize = [8,6])\n",
    "cats_PIP.value_counts().sort_index().plot(kind = 'bar', logy = True, \n",
    "                        title = 'PIP', color = 'black', alpha = 0.7, fontsize = 14)\n",
    "ax.set_xlabel('range (mbar)', size = 14)\n",
    "ax.set_ylabel('number of inflations', size = 14)\n",
    "plt.title('PIP', fontsize = 16)\n",
    "plt.grid('on')\n",
    "plt.tight_layout()\n",
    "\n",
    "fig.savefig('%s/%s.%s' % (DIR_WRITE, 'PIP_distribution_log', 'jpg'),\n",
    "    dpi = 200, facecolor='w', edgecolor='w', orientation='portrait', papertype=None, format = 'jpg',\n",
    "    transparent=False, bbox_inches=None, pad_inches=0.1, frameon=True);"
   ]
  },
  {
   "cell_type": "markdown",
   "metadata": {},
   "source": [
    "### Range and distribution of Pdiff"
   ]
  },
  {
   "cell_type": "code",
   "execution_count": null,
   "metadata": {},
   "outputs": [],
   "source": [
    "bins = list(np.arange(0, 31, 2)) + [40]\n",
    "\n",
    "cats_P_diff = pd.cut(slow_measurements_all['P_diff'], \n",
    "                              bins = bins, right = False)\n",
    "cats_P_diff.value_counts().sort_index()"
   ]
  },
  {
   "cell_type": "code",
   "execution_count": null,
   "metadata": {},
   "outputs": [],
   "source": [
    "(cats_P_diff.value_counts() / len(cats_P_diff)) * 100"
   ]
  },
  {
   "cell_type": "code",
   "execution_count": null,
   "metadata": {},
   "outputs": [],
   "source": [
    "fig, ax = plt.subplots(figsize = [8,6])\n",
    "cats_P_diff.value_counts().sort_index().plot(kind = 'bar', logy = False, \n",
    "                        title = 'Pdiff', color = 'black', alpha = 0.7, fontsize = 14)\n",
    "ax.set_xlabel('range (mbar)', size = 14)\n",
    "ax.set_ylabel('number of inflations', size = 14)\n",
    "plt.title('Pdiff', fontsize = 16)\n",
    "plt.grid('on')\n",
    "plt.tight_layout()\n",
    "\n",
    "fig.savefig('%s/%s.%s' % (DIR_WRITE, 'P_diff_distribution', 'jpg'),\n",
    "    dpi = 200, facecolor='w', edgecolor='w', orientation='portrait', papertype=None, format = 'jpg',\n",
    "    transparent=False, bbox_inches=None, pad_inches=0.1, frameon=True);"
   ]
  },
  {
   "cell_type": "code",
   "execution_count": null,
   "metadata": {},
   "outputs": [],
   "source": [
    "bins = list(np.arange(0, 31, 5))\n",
    "\n",
    "cats_P_diff = pd.cut(slow_measurements_all['P_diff'], \n",
    "                              bins = bins, right = False)\n",
    "cats_P_diff.value_counts().sort_index()"
   ]
  },
  {
   "cell_type": "code",
   "execution_count": null,
   "metadata": {},
   "outputs": [],
   "source": [
    "(cats_P_diff.value_counts() / len(cats_P_diff)) * 100"
   ]
  },
  {
   "cell_type": "code",
   "execution_count": null,
   "metadata": {},
   "outputs": [],
   "source": [
    "fig, ax = plt.subplots(figsize = [8,6])\n",
    "cats_P_diff.value_counts().sort_index().plot(kind = 'bar', logy = False, \n",
    "                        title = 'Pdiff', color = 'black', alpha = 0.7, fontsize = 14)\n",
    "ax.set_xlabel('range (mbar)', size = 14)\n",
    "ax.set_ylabel('number of inflations', size = 14)\n",
    "plt.title('Pdiff', fontsize = 16)\n",
    "plt.grid('on')\n",
    "plt.tight_layout()\n",
    "\n",
    "fig.savefig('%s/%s.%s' % (DIR_WRITE, 'P_diff_distribution_2', 'jpg'),\n",
    "    dpi = 200, facecolor='w', edgecolor='w', orientation='portrait', papertype=None, format = 'jpg',\n",
    "    transparent=False, bbox_inches=None, pad_inches=0.1, frameon=True);"
   ]
  },
  {
   "cell_type": "markdown",
   "metadata": {},
   "source": [
    "### Range and distribution of leak%"
   ]
  },
  {
   "cell_type": "code",
   "execution_count": null,
   "metadata": {},
   "outputs": [],
   "source": [
    "bins = list(np.arange(0, 101, 10))\n",
    "\n",
    "cats_leak = pd.cut(slow_measurements_all['leak%'], \n",
    "                              bins = bins, right = False)\n",
    "cats_leak.value_counts().sort_index()"
   ]
  },
  {
   "cell_type": "code",
   "execution_count": null,
   "metadata": {},
   "outputs": [],
   "source": [
    "(cats_leak.value_counts() / len(cats_leak)) * 100"
   ]
  },
  {
   "cell_type": "code",
   "execution_count": null,
   "metadata": {},
   "outputs": [],
   "source": [
    "fig, ax = plt.subplots(figsize = [8,6])\n",
    "cats_leak.value_counts().sort_index().plot(kind = 'bar', logy = False, \n",
    "                        title = 'leak percentage', color = 'black', alpha = 0.7, fontsize = 14)\n",
    "ax.set_xlabel('range (%)', size = 14)\n",
    "ax.set_ylabel('number of inflations', size = 14)\n",
    "plt.title('leak percentage', fontsize = 16)\n",
    "plt.grid('on')\n",
    "plt.tight_layout()\n",
    "\n",
    "fig.savefig('%s/%s.%s' % (DIR_WRITE, 'leak_pc_distribution', 'jpg'),\n",
    "    dpi = 200, facecolor='w', edgecolor='w', orientation='portrait', papertype=None, format = 'jpg',\n",
    "    transparent=False, bbox_inches=None, pad_inches=0.1, frameon=True);"
   ]
  },
  {
   "cell_type": "markdown",
   "metadata": {},
   "source": [
    "### Calculate how much the VTdiff is for various bins of Pdiff"
   ]
  },
  {
   "cell_type": "code",
   "execution_count": null,
   "metadata": {},
   "outputs": [],
   "source": [
    "bins = list(np.arange(0, 31, 5))\n",
    "\n",
    "cats_P_diff = pd.cut(slow_measurements_all['P_diff'], \n",
    "                              bins = bins, right = False)\n",
    "cats_P_diff.value_counts().sort_index()"
   ]
  },
  {
   "cell_type": "code",
   "execution_count": null,
   "metadata": {},
   "outputs": [],
   "source": [
    "slow_measurements_all_binned_P_diff = slow_measurements_all.groupby(cats_P_diff)"
   ]
  },
  {
   "cell_type": "code",
   "execution_count": null,
   "metadata": {
    "scrolled": false
   },
   "outputs": [],
   "source": [
    "dpi = 300\n",
    "filetype = 'jpg'\n",
    "xticklabels = ['0-5', '5-10', '10-15', '15-20', '20-25', '25-30']\n",
    "\n",
    "# Define styling for each boxplot component\n",
    "medianprops = {'color': 'black', 'linewidth': 2}\n",
    "boxprops = {'color': 'black', 'linestyle': '-'}\n",
    "whiskerprops = {'color': 'black', 'linestyle': '-'}\n",
    "capprops = {'color': 'black', 'linestyle': '-'}\n",
    "# flierprops = {'color': 'black', 'marker': 'x'}\n",
    "\n",
    "\n",
    "fig, ax = plt.subplots(figsize = (4,4))\n",
    "data = []\n",
    "for name, group in slow_measurements_all_binned_P_diff:\n",
    "    data.append(group['VT_diff'].values)\n",
    "plt.boxplot(data, whis = [5, 95], showfliers = False, \n",
    "        medianprops=medianprops, boxprops=boxprops, whiskerprops=whiskerprops, capprops=capprops,)\n",
    "\n",
    "plt.xticks(np.arange(1, len(data)+1), xticklabels, rotation = 'vertical')\n",
    "plt.xlabel('Pdiff (mbar)', size = 14)\n",
    "plt.ylabel('VTdiff (mL/kg)', size = 14)\n",
    "ax.tick_params(axis='both', which='major', labelsize=14)\n",
    "\n",
    "plt.grid('on')\n",
    "plt.tight_layout()\n",
    "\n",
    "fig.savefig('%s/%s.%s' % (DIR_WRITE,  'Pdiff_VTdiff',  filetype),\n",
    "            dpi = dpi, facecolor='w', edgecolor='w', orientation='portrait', papertype=None, format = filetype,\n",
    "            transparent=False, bbox_inches=None, pad_inches=0.1, frameon=True);"
   ]
  },
  {
   "cell_type": "markdown",
   "metadata": {},
   "source": [
    "### Calculate how much the PIP is for various bins of VT_diff"
   ]
  },
  {
   "cell_type": "code",
   "execution_count": null,
   "metadata": {},
   "outputs": [],
   "source": [
    "bins = list(np.arange(-4, 5, 1))\n",
    "\n",
    "cats_VT_diff = pd.cut(slow_measurements_all['VT_diff'], \n",
    "                              bins = bins, right = False)\n",
    "cats_VT_diff.value_counts().sort_index()"
   ]
  },
  {
   "cell_type": "code",
   "execution_count": null,
   "metadata": {},
   "outputs": [],
   "source": [
    "slow_measurements_all_binned_VT_diff = slow_measurements_all.groupby(cats_VT_diff)"
   ]
  },
  {
   "cell_type": "code",
   "execution_count": null,
   "metadata": {
    "scrolled": false
   },
   "outputs": [],
   "source": [
    "dpi = 300\n",
    "filetype = 'jpg'\n",
    "xticklabels = ['-4 - -3', '-3 - -2', '-2 - -1', '-1 - 0', '0 - 1', '1 - 2', '2 - 3', '3 - 4']\n",
    "# Define styling for each boxplot component\n",
    "medianprops = {'color': 'black', 'linewidth': 2}\n",
    "boxprops = {'color': 'black', 'linestyle': '-'}\n",
    "whiskerprops = {'color': 'black', 'linestyle': '-'}\n",
    "capprops = {'color': 'black', 'linestyle': '-'}\n",
    "# flierprops = {'color': 'black', 'marker': 'x'}\n",
    "\n",
    "\n",
    "fig, ax = plt.subplots(figsize = (6,4))\n",
    "data = []\n",
    "for name, group in slow_measurements_all_binned_VT_diff:\n",
    "    data.append(group['PIP'].values)\n",
    "plt.boxplot(data, whis = [5, 95], showfliers = False,\n",
    "        medianprops=medianprops, boxprops=boxprops, whiskerprops=whiskerprops, capprops=capprops,)\n",
    "\n",
    "plt.xticks(np.arange(1, len(data)+1), xticklabels, rotation = 'vertical')\n",
    "plt.xlabel('VTdiff (mL/kg)', size = 14)\n",
    "plt.ylabel('PIP (mbar)', size = 14)\n",
    "ax.tick_params(axis='both', which='major', labelsize=14)\n",
    "\n",
    "plt.grid('on')\n",
    "plt.tight_layout()\n",
    "\n",
    "fig.savefig('%s/%s.%s' % (DIR_WRITE,  'VTdiff_PIP',  filetype),\n",
    "            dpi = dpi, facecolor='w', edgecolor='w', orientation='portrait', papertype=None, format = filetype,\n",
    "            transparent=False, bbox_inches=None, pad_inches=0.1, frameon=True);"
   ]
  },
  {
   "cell_type": "code",
   "execution_count": null,
   "metadata": {},
   "outputs": [],
   "source": [
    "VT_diff_stats = slow_measurements_all_binned_VT_diff.describe(percentiles = [0.05, 0.1, 0.25, 0.5, 0.75, 0.9, 0.95])\n",
    "VT_diff_stats"
   ]
  },
  {
   "cell_type": "markdown",
   "metadata": {},
   "source": [
    "## Aggregate statistics of ventilator parameter in each recording"
   ]
  },
  {
   "cell_type": "code",
   "execution_count": null,
   "metadata": {},
   "outputs": [],
   "source": [
    "grouped = slow_measurements_all.groupby('recording')"
   ]
  },
  {
   "cell_type": "code",
   "execution_count": null,
   "metadata": {
    "scrolled": false
   },
   "outputs": [],
   "source": [
    "# Calculate all descriptive stats together\n",
    "all_stats = round(grouped.describe(percentiles = [0.05, 0.1, 0.25, 0.5, 0.75, 0.9, 0.95]), 2)\n",
    "all_stats"
   ]
  },
  {
   "cell_type": "markdown",
   "metadata": {},
   "source": [
    "## Additional statistics"
   ]
  },
  {
   "cell_type": "markdown",
   "metadata": {},
   "source": [
    "### Recording duration"
   ]
  },
  {
   "cell_type": "code",
   "execution_count": null,
   "metadata": {},
   "outputs": [],
   "source": [
    "recording_duration['hours'] = recording_duration['seconds'] / 3600"
   ]
  },
  {
   "cell_type": "code",
   "execution_count": null,
   "metadata": {},
   "outputs": [],
   "source": [
    "recording_duration.columns = [['Recording duration', 'Recording duration'],\n",
    "                              ['seconds', 'hours']]"
   ]
  },
  {
   "cell_type": "code",
   "execution_count": null,
   "metadata": {},
   "outputs": [],
   "source": [
    "recording_duration"
   ]
  },
  {
   "cell_type": "markdown",
   "metadata": {},
   "source": [
    "### Calculate statistics about Pdiff "
   ]
  },
  {
   "cell_type": "code",
   "execution_count": null,
   "metadata": {},
   "outputs": [],
   "source": [
    "all_stats['P_diff']['50%'].median(), all_stats['P_diff']['50%'].min(), all_stats['P_diff']['50%'].max()"
   ]
  },
  {
   "cell_type": "markdown",
   "metadata": {},
   "source": [
    "#### P_diff"
   ]
  },
  {
   "cell_type": "code",
   "execution_count": null,
   "metadata": {},
   "outputs": [],
   "source": [
    "slow_measurements_all_not_limited_1 = \\\n",
    "    slow_measurements_all[(slow_measurements_all['PIP'] > (slow_measurements_all['Pmax'] - 10))]\n",
    "    \n",
    "print('PIP was <10 mbar below Pmax  in %.2f percent of inflations' % \\\n",
    "(len(slow_measurements_all_not_limited_1) / len(slow_measurements_all) * 100))"
   ]
  },
  {
   "cell_type": "code",
   "execution_count": null,
   "metadata": {},
   "outputs": [],
   "source": [
    "slow_measurements_all_not_limited_2 = \\\n",
    "    slow_measurements_all[(slow_measurements_all['PIP'] > (slow_measurements_all['Pmax'] - 5))]\n",
    "    \n",
    "print('PIP was <5 mbar below Pmax  in %.2f percent of inflations' % \\\n",
    "(len(slow_measurements_all_not_limited_2) / len(slow_measurements_all) * 100))"
   ]
  },
  {
   "cell_type": "code",
   "execution_count": null,
   "metadata": {},
   "outputs": [],
   "source": [
    "slow_measurements_all_limited_3 = \\\n",
    "        slow_measurements_all[(slow_measurements_all['PIP'] >= slow_measurements_all['Pmax'])]\n",
    "    \n",
    "print('Pmax was reached or exceeded in %.2f percent of inflations' % \\\n",
    "(len(slow_measurements_all_limited_3) / len(slow_measurements_all) * 100))"
   ]
  },
  {
   "cell_type": "markdown",
   "metadata": {},
   "source": [
    "##### VT_diff"
   ]
  },
  {
   "cell_type": "code",
   "execution_count": null,
   "metadata": {},
   "outputs": [],
   "source": [
    "slow_measurements_all_limited_4 = \\\n",
    "        slow_measurements_all[(slow_measurements_all['VT_diff'] < 0)]\n",
    "    \n",
    "print('The targeted VT was not reached in %.2f percent of inflations' % \\\n",
    "(len(slow_measurements_all_limited_4) / len(slow_measurements_all) * 100))"
   ]
  },
  {
   "cell_type": "code",
   "execution_count": null,
   "metadata": {},
   "outputs": [],
   "source": [
    "slow_measurements_all_limited_5 = \\\n",
    "        slow_measurements_all[(slow_measurements_all['VT_diff'] < -1)]\n",
    "    \n",
    "print('The targeted VT was not reached by >1 mL/kg in %.2f percent of inflations' % \\\n",
    "(len(slow_measurements_all_limited_5) / len(slow_measurements_all) * 100))"
   ]
  },
  {
   "cell_type": "code",
   "execution_count": null,
   "metadata": {},
   "outputs": [],
   "source": [
    "slow_measurements_all_limited_6 = \\\n",
    "        slow_measurements_all[(slow_measurements_all['VT_diff'] < -2)]\n",
    "    \n",
    "print('The targeted VT was not reached by >2 mL/kg in %.2f percent of inflations' % \\\n",
    "(len(slow_measurements_all_limited_6) / len(slow_measurements_all) * 100))"
   ]
  },
  {
   "cell_type": "code",
   "execution_count": null,
   "metadata": {},
   "outputs": [],
   "source": [
    "slow_measurements_all_limited_7 = \\\n",
    "        slow_measurements_all[(slow_measurements_all['VT_diff'] < -3)]\n",
    "    \n",
    "print('The targeted VT was not reached by >3 mL/kg in %.2f percent of inflations' % \\\n",
    "(len(slow_measurements_all_limited_7) / len(slow_measurements_all) * 100))"
   ]
  },
  {
   "cell_type": "markdown",
   "metadata": {},
   "source": [
    "##### P_diff and VT_diff"
   ]
  },
  {
   "cell_type": "code",
   "execution_count": null,
   "metadata": {},
   "outputs": [],
   "source": [
    "slow_measurements_all_limited_8 = \\\n",
    "        slow_measurements_all[(slow_measurements_all['PIP'] >= slow_measurements_all['Pmax']) & \n",
    "                              (slow_measurements_all['VT_diff'] < 0) ]\n",
    "    \n",
    "print('Pmax was reached or exceeded AND set VT was not achieved  in %.2f percent of inflations' % \\\n",
    "(len(slow_measurements_all_limited_8) / len(slow_measurements_all) * 100))"
   ]
  },
  {
   "cell_type": "code",
   "execution_count": null,
   "metadata": {},
   "outputs": [],
   "source": [
    "slow_measurements_all_limited_9 = \\\n",
    "        slow_measurements_all[(slow_measurements_all['PIP'] >= slow_measurements_all['Pmax']) & \n",
    "                              (slow_measurements_all['VT_diff'] <= -1) ]\n",
    "    \n",
    "print('''Pmax was reached or exceeded AND set VT was not achieved by at least 1 mL/kg \n",
    " in %.2f percent of inflations''' % (len(slow_measurements_all_limited_9) / len(slow_measurements_all) * 100))"
   ]
  },
  {
   "cell_type": "code",
   "execution_count": null,
   "metadata": {},
   "outputs": [],
   "source": [
    "slow_measurements_all_limited_10 = \\\n",
    "        slow_measurements_all[(slow_measurements_all['PIP'] >= slow_measurements_all['Pmax']) & \n",
    "                              (slow_measurements_all['VT_diff'] <= -2) ]\n",
    "    \n",
    "print('''Pmax was reached or exceeded AND set VT was not achieved by at least 2 mL/kg \n",
    " in %.2f percent of inflations''' % (len(slow_measurements_all_limited_10) / len(slow_measurements_all) * 100))"
   ]
  },
  {
   "cell_type": "code",
   "execution_count": null,
   "metadata": {},
   "outputs": [],
   "source": [
    "slow_measurements_all_limited_11 = \\\n",
    "        slow_measurements_all[(slow_measurements_all['PIP'] >= slow_measurements_all['Pmax']) & \n",
    "                              (slow_measurements_all['VT_diff'] <= -3) ]\n",
    "    \n",
    "print('''Pmax was reached or exceeded AND set VT was not achieved by at least 3 mL/kg \n",
    " in %.2f percent of inflations''' % (len(slow_measurements_all_limited_11) / len(slow_measurements_all) * 100))"
   ]
  },
  {
   "cell_type": "markdown",
   "metadata": {},
   "source": [
    "##### Percentage of inflations with Pmax reached which do not achieve target VT by a partuculat value"
   ]
  },
  {
   "cell_type": "code",
   "execution_count": null,
   "metadata": {
    "scrolled": false
   },
   "outputs": [],
   "source": [
    "print('''VT was not achieved in %.2f percent of inflations when Pmax was reached''' \n",
    "      % (len(slow_measurements_all_limited_8) / len(slow_measurements_all_limited_3) * 100))"
   ]
  },
  {
   "cell_type": "code",
   "execution_count": null,
   "metadata": {
    "scrolled": false
   },
   "outputs": [],
   "source": [
    "print('''VT was not achieved by at least 1 mL/kg in %.2f percent of inflations when Pmax was reached''' \n",
    "      % (len(slow_measurements_all_limited_9) / len(slow_measurements_all_limited_3) * 100))"
   ]
  },
  {
   "cell_type": "code",
   "execution_count": null,
   "metadata": {
    "scrolled": false
   },
   "outputs": [],
   "source": [
    "print('''VT was not achieved by at least 2 mL/kg in %.2f percent of inflations when Pmax was reached''' \n",
    "      % (len(slow_measurements_all_limited_10) / len(slow_measurements_all_limited_3) * 100))"
   ]
  },
  {
   "cell_type": "code",
   "execution_count": null,
   "metadata": {
    "scrolled": false
   },
   "outputs": [],
   "source": [
    "print('''VT was not achieved by at least 3 mL/kg in %.2f percent of inflations when Pmax was reached''' \n",
    "      % (len(slow_measurements_all_limited_11) / len(slow_measurements_all_limited_3) * 100))"
   ]
  },
  {
   "cell_type": "markdown",
   "metadata": {},
   "source": [
    "#### Create a Dataframe for category 9 (Pmax was reached and VT was not achieved by >1 mL/kg)"
   ]
  },
  {
   "cell_type": "code",
   "execution_count": null,
   "metadata": {},
   "outputs": [],
   "source": [
    "def filter(dframe):\n",
    "    return  dframe[(dframe['PIP'] >= dframe['Pmax']) & (dframe['VT_diff'] < -1)]"
   ]
  },
  {
   "cell_type": "code",
   "execution_count": null,
   "metadata": {},
   "outputs": [],
   "source": [
    "limited_inflations = grouped.apply(filter)"
   ]
  },
  {
   "cell_type": "code",
   "execution_count": null,
   "metadata": {},
   "outputs": [],
   "source": [
    "len(limited_inflations)"
   ]
  },
  {
   "cell_type": "code",
   "execution_count": null,
   "metadata": {},
   "outputs": [],
   "source": [
    "limited_inflations.head();"
   ]
  },
  {
   "cell_type": "code",
   "execution_count": null,
   "metadata": {},
   "outputs": [],
   "source": [
    "limited_inflations_stats = DataFrame(limited_inflations.groupby('recording').size())\n",
    "limited_inflations_stats['%']= \\\n",
    "    round((limited_inflations.groupby('recording').size() / grouped.size() * 100), 2)\n",
    "\n",
    "limited_inflations_stats.columns = [['limited inflations', 'limited inflations'], \n",
    "                                    ['count', '%']] \n",
    "limited_inflations_stats"
   ]
  },
  {
   "cell_type": "markdown",
   "metadata": {},
   "source": [
    "### Add how many times the Pmax was changed during the recordings"
   ]
  },
  {
   "cell_type": "code",
   "execution_count": null,
   "metadata": {},
   "outputs": [],
   "source": [
    "# Import ventilator settings\n",
    "\n",
    "vent_settings = {}\n",
    "\n",
    "for recording in recordings:\n",
    "    flist = os.listdir('%s/%s' % (DIR_READ_3, recording))\n",
    "    flist = [file for file in flist if not file.startswith('.')] # There are some hidden \n",
    "    # files on the hard drive starting with '.'; this step is necessary to ignore them\n",
    "    files = slow_setting_finder(flist)\n",
    "    # print('Loading recording %s' % recording)\n",
    "    # print(files)\n",
    "    fnames = ['%s/%s/%s' % (DIR_READ_3, recording, filename) for filename in files]\n",
    "    vent_settings[recording] =  data_loader(fnames)"
   ]
  },
  {
   "cell_type": "code",
   "execution_count": null,
   "metadata": {},
   "outputs": [],
   "source": [
    "# Limit ventilation settings to the duration of the recordings\n",
    "\n",
    "for recording in recordings:\n",
    "        \n",
    "    if slow_measurements[recording].index[0] <= vent_settings[recording].index[0]:\n",
    "        continue\n",
    "    else:\n",
    "        vent_settings[recording] = vent_settings[recording][slow_measurements[recording].index[0] : ]\n",
    "        \n",
    "    if slow_measurements[recording].index[-1] >= vent_settings[recording].index[-1]:\n",
    "        continue\n",
    "    else:\n",
    "        vent_settings[recording] = vent_settings[recording][ : slow_measurements[recording].index[-1]]"
   ]
  },
  {
   "cell_type": "code",
   "execution_count": null,
   "metadata": {},
   "outputs": [],
   "source": [
    "columns_to_keep  = ['Id', 'Value Old', 'Value New']\n",
    "\n",
    "total = []\n",
    "for recording in recordings:\n",
    "    to_keep = vent_settings[recording][columns_to_keep].copy()\n",
    "    to_keep['recording'] = recording\n",
    "    total.append(to_keep)\n",
    "vent_settings_all = pd.concat(total)    "
   ]
  },
  {
   "cell_type": "code",
   "execution_count": null,
   "metadata": {},
   "outputs": [],
   "source": [
    "vent_setting_grouped = vent_settings_all.groupby('recording')"
   ]
  },
  {
   "cell_type": "code",
   "execution_count": null,
   "metadata": {},
   "outputs": [],
   "source": [
    "# Create a Dataframe for category 2\n",
    "\n",
    "def filter_2(dframe):\n",
    "    return  dframe[dframe['Id'] == 'Pmax']"
   ]
  },
  {
   "cell_type": "code",
   "execution_count": null,
   "metadata": {},
   "outputs": [],
   "source": [
    "Pmax_changes = vent_setting_grouped.apply(filter_2)\n",
    "Pmax_changes.drop(['recording'], axis = 1, inplace  = True)"
   ]
  },
  {
   "cell_type": "code",
   "execution_count": null,
   "metadata": {},
   "outputs": [],
   "source": [
    "# The first entry in the vent_settings DataFrames are the initial settings not changes made \n",
    "\n",
    "Pmax_changes_no_initial = {}\n",
    "\n",
    "for recording in Pmax_changes.index.levels[0]:\n",
    "    # print(recording)\n",
    "    a = Pmax_changes.loc[recording]\n",
    "    try:\n",
    "        Pmax_changes_no_initial[recording] = a.drop(a.index[0], inplace=False)\n",
    "    except:\n",
    "        continue # some of the recordings have no change in vent settings at all\n",
    "        \n",
    "Pmax_changes_no_initial = pd.concat(Pmax_changes_no_initial)\n",
    "# some tables are compiled from more than one file, for these there will be a \n",
    "# second 'initial value' marked by an Old Value of 'nan'; remove this\n",
    "Pmax_changes_no_initial.dropna(inplace = True) \n",
    "Pmax_changes_no_initial.index.levels[0].name = 'recording'"
   ]
  },
  {
   "cell_type": "code",
   "execution_count": null,
   "metadata": {},
   "outputs": [],
   "source": [
    "len(Pmax_changes_no_initial)"
   ]
  },
  {
   "cell_type": "code",
   "execution_count": null,
   "metadata": {},
   "outputs": [],
   "source": [
    "recording_duration"
   ]
  },
  {
   "cell_type": "code",
   "execution_count": null,
   "metadata": {},
   "outputs": [],
   "source": [
    "Pmax_changes_stats = DataFrame(Pmax_changes_no_initial.groupby('recording').size(), \n",
    "            columns = ['Pmax changes (count)'])\n",
    "Pmax_changes_stats['Pmax changes (count[day])'] = \\\n",
    "    round(Pmax_changes_stats['Pmax changes (count)'] / \n",
    "          (recording_duration['Recording duration']['seconds'] / (3660 * 24)), 2)\n",
    "Pmax_changes_stats.columns = [['Pmax changes', 'Pmax changes'],\n",
    "                             ['count', 'count/day' ]]\n",
    "Pmax_changes_stats"
   ]
  },
  {
   "cell_type": "code",
   "execution_count": null,
   "metadata": {},
   "outputs": [],
   "source": [
    "Pmax_changes_stats.median()"
   ]
  },
  {
   "cell_type": "markdown",
   "metadata": {},
   "source": [
    "### Number of low tidal volume alarms"
   ]
  },
  {
   "cell_type": "code",
   "execution_count": null,
   "metadata": {},
   "outputs": [],
   "source": [
    "alarm_states = {}\n",
    "\n",
    "for recording in recordings:\n",
    "    flist = os.listdir('%s/%s' % (DIR_READ_3, recording))\n",
    "    flist = [file for file in flist if not file.startswith('.')] # There are some hidden \n",
    "    # files on the hard drive starting with '.'; this step is necessary to ignore them\n",
    "    files = alarm_state_finder(flist)\n",
    "    # print('Loading recording %s' % recording)\n",
    "    # print(files)\n",
    "    fnames = ['%s/%s/%s' % (DIR_READ_3, recording, filename) for filename in files]\n",
    "    alarm_states[recording] =  data_loader(fnames)"
   ]
  },
  {
   "cell_type": "code",
   "execution_count": null,
   "metadata": {},
   "outputs": [],
   "source": [
    "# Limit alarm events for the duration of the recordings\n",
    "\n",
    "for recording in recordings:\n",
    "    \n",
    "    if slow_measurements[recording].index[0] <= alarm_states[recording].index[0]:\n",
    "        continue\n",
    "    else:\n",
    "        alarm_states[recording] = alarm_states[recording][slow_measurements[recording].index[0] : ]\n",
    "        \n",
    "    if slow_measurements[recording].index[-1] >= alarm_states[recording].index[-1]:\n",
    "        continue\n",
    "    else:\n",
    "        alarm_states[recording] = alarm_states[recording][ : slow_measurements[recording].index[-1]]"
   ]
  },
  {
   "cell_type": "code",
   "execution_count": null,
   "metadata": {},
   "outputs": [],
   "source": [
    "alarm_count = {}\n",
    "alarm_count_total = 0\n",
    "\n",
    "for recording in recordings:\n",
    "    a = alarm_states[recording]\n",
    "    b = a[a['Name'].isin(['Tidal volume < low Limit', 'Tube obstructed','Volume not constant'])]\n",
    "    c = b[b['State New'] == 'Active']\n",
    "    alarm_count[recording] = len(c)\n",
    "    \n",
    "alarm_count = DataFrame([alarm_count]).T\n",
    "alarm_count.index.name = 'recording'\n",
    "alarm_count.columns = ['alarm count']\n",
    "\n",
    "alarm_count['alarm count/hour'] = round(alarm_count['alarm count'] /\\\n",
    "                    (recording_duration['Recording duration']['seconds'] / 3660), 2)\n",
    "alarm_count.columns = [['Low VT alarm', 'Low VT alarm'],\n",
    "                       ['count', 'count/hour']]\n",
    "alarm_count"
   ]
  },
  {
   "cell_type": "markdown",
   "metadata": {},
   "source": [
    "### Combine additional statistics"
   ]
  },
  {
   "cell_type": "code",
   "execution_count": null,
   "metadata": {},
   "outputs": [],
   "source": [
    "additional_stats = pd.concat([recording_duration, limited_inflations_stats,\n",
    "                              Pmax_changes_stats, alarm_count], axis = 1)\n",
    "additional_stats.replace(np.nan, 0, inplace = True)"
   ]
  },
  {
   "cell_type": "code",
   "execution_count": null,
   "metadata": {},
   "outputs": [],
   "source": [
    "additional_stats"
   ]
  },
  {
   "cell_type": "code",
   "execution_count": null,
   "metadata": {},
   "outputs": [],
   "source": [
    "combined_stats = pd.concat([all_stats, additional_stats], axis = 1)"
   ]
  },
  {
   "cell_type": "code",
   "execution_count": null,
   "metadata": {
    "scrolled": false
   },
   "outputs": [],
   "source": [
    "combined_stats"
   ]
  },
  {
   "cell_type": "code",
   "execution_count": null,
   "metadata": {},
   "outputs": [],
   "source": [
    "sum(combined_stats['Pmax']['max'] > 20)"
   ]
  },
  {
   "cell_type": "code",
   "execution_count": null,
   "metadata": {},
   "outputs": [],
   "source": [
    "sum(combined_stats['Pmax']['max'] > 30)"
   ]
  },
  {
   "cell_type": "code",
   "execution_count": null,
   "metadata": {},
   "outputs": [],
   "source": [
    "sum(combined_stats['Pmax']['max'] > 40)"
   ]
  },
  {
   "cell_type": "code",
   "execution_count": null,
   "metadata": {},
   "outputs": [],
   "source": [
    "# Write statistics into  Excel file\n",
    "\n",
    "writer = pd.ExcelWriter('%s/%s' % (DIR_WRITE, 'stats_all.xlsx'))\n",
    "all_stats.to_excel(writer, 'all_stats')\n",
    "additional_stats.to_excel(writer, 'additional_stats')\n",
    "combined_stats.to_excel(writer, 'combined_stats')\n",
    "writer.save()"
   ]
  },
  {
   "cell_type": "markdown",
   "metadata": {},
   "source": [
    "### EDA on this DataFrame"
   ]
  },
  {
   "cell_type": "code",
   "execution_count": null,
   "metadata": {},
   "outputs": [],
   "source": [
    "combined_stats.describe()"
   ]
  },
  {
   "cell_type": "code",
   "execution_count": null,
   "metadata": {
    "scrolled": false
   },
   "outputs": [],
   "source": [
    "correlation_all = round(combined_stats.corr(method = 'spearman'), 2)\n",
    "correlation_all;"
   ]
  },
  {
   "cell_type": "code",
   "execution_count": null,
   "metadata": {},
   "outputs": [],
   "source": [
    "# Write statistics into  Excel file\n",
    "\n",
    "writer = pd.ExcelWriter('%s/%s' % (DIR_WRITE, 'correlation_all.xlsx'))\n",
    "correlation_all.to_excel(writer, 'stats')\n",
    "writer.save()"
   ]
  },
  {
   "cell_type": "code",
   "execution_count": null,
   "metadata": {},
   "outputs": [],
   "source": [
    "combined_stats.corr(method='spearman')['P_diff']['50%'].sort_values(ascending = False)"
   ]
  },
  {
   "cell_type": "code",
   "execution_count": null,
   "metadata": {},
   "outputs": [],
   "source": [
    "from scipy.stats import pearsonr\n",
    "\n",
    "def corr_pearson(x, y):\n",
    "\n",
    "    '''\n",
    "    input: two numeric arrays of the same size\n",
    "\n",
    "    returns: a tuple of \n",
    "    1. Pearson's correlation coefficient: r\n",
    "    2. low and high 95% confidence intervals or r (two values)\n",
    "    3. Coefficient of determination: r^2\n",
    "    4. p-value of correlation\n",
    "\n",
    "    '''\n",
    "    \n",
    "    assert len(x) == len(y)\n",
    "    \n",
    "    r, p = pearsonr(x, y)\n",
    "    f = 0.5*np.log((1+r)/(1-r))\n",
    "    se = 1/np.sqrt(len(x)-3)\n",
    "    ucl = f + 1.96 * se\n",
    "    lcl = f - 1.96 * se\n",
    "\n",
    "    lcl = (np.exp(2*lcl) - 1) / (np.exp(2*lcl) + 1)\n",
    "    ucl = (np.exp(2*ucl) - 1) / (np.exp(2*ucl) + 1)\n",
    "\n",
    "    return r , lcl, ucl , r*r, p"
   ]
  },
  {
   "cell_type": "code",
   "execution_count": null,
   "metadata": {},
   "outputs": [],
   "source": [
    "from scipy.stats import spearmanr\n",
    "\n",
    "def corr_spearman(x, y):\n",
    "\n",
    "    '''\n",
    "    input: two numeric arrays of the same size\n",
    "\n",
    "    returns: a tuple of \n",
    "    1. Spearman's correlation coefficient: r\n",
    "    2. low and high 95% confidence intervals or r (two values)\n",
    "    3. Coefficient of determination: r^2\n",
    "    4. p-value of correlation\n",
    "\n",
    "    '''\n",
    "    \n",
    "    assert len(x) == len(y)\n",
    "    \n",
    "    r, p = spearmanr(x, y)\n",
    "    f = 0.5*np.log((1+r)/(1-r))\n",
    "    se = 1/np.sqrt(len(x)-3)\n",
    "    ucl = f + 1.96 * se\n",
    "    lcl = f - 1.96 * se\n",
    "\n",
    "    lcl = (np.exp(2*lcl) - 1) / (np.exp(2*lcl) + 1)\n",
    "    ucl = (np.exp(2*ucl) - 1) / (np.exp(2*ucl) + 1)\n",
    "\n",
    "    return r , lcl, ucl , r*r, p"
   ]
  },
  {
   "cell_type": "code",
   "execution_count": null,
   "metadata": {},
   "outputs": [],
   "source": [
    "r , lcl, ucl , r2, p = corr_spearman(combined_stats['limited inflations']['%'], \n",
    "                                      combined_stats['Low VT alarm']['count/hour'])\n",
    "print('r = {0:.2f}, lcl = {1:.2f}, ucl = {2:.2f}, r2 = {3:.2f}, p = {4:.3f}'.format(r , lcl, ucl , r2, p))"
   ]
  },
  {
   "cell_type": "code",
   "execution_count": null,
   "metadata": {},
   "outputs": [],
   "source": [
    "r , lcl, ucl , r2, p = corr_spearman(combined_stats['limited inflations']['%'], \n",
    "                                      combined_stats['P_diff']['50%'])\n",
    "print('r = {0:.2f}, lcl = {1:.2f}, ucl = {2:.2f}, r2 = {3:.2f}, p = {4:.3f}'.format(r , lcl, ucl , r2, p))"
   ]
  },
  {
   "cell_type": "code",
   "execution_count": null,
   "metadata": {},
   "outputs": [],
   "source": [
    "r , lcl, ucl , r2, p = corr_spearman(combined_stats['Low VT alarm']['count/hour'], \n",
    "                                      combined_stats['P_diff']['50%'])\n",
    "print('r = {0:.2f}, lcl = {1:.2f}, ucl = {2:.2f}, r2 = {3:.2f}, p = {4:.3f}'.format(r , lcl, ucl , r2, p))"
   ]
  },
  {
   "cell_type": "code",
   "execution_count": null,
   "metadata": {},
   "outputs": [],
   "source": [
    "r , lcl, ucl , r2, p = corr_spearman(combined_stats['VT_diff']['50%'], \n",
    "                                      combined_stats['P_diff']['50%'])\n",
    "print('r = {0:.2f}, lcl = {1:.2f}, ucl = {2:.2f}, r2 = {3:.2f}, p = {4:.3f}'.format(r , lcl, ucl , r2, p))"
   ]
  },
  {
   "cell_type": "code",
   "execution_count": null,
   "metadata": {},
   "outputs": [],
   "source": [
    "r , lcl, ucl , r2, p = corr_spearman(combined_stats['Pmax']['50%'], \n",
    "                                      combined_stats['P_diff']['50%'])\n",
    "print('r = {0:.2f}, lcl = {1:.2f}, ucl = {2:.2f}, r2 = {3:.2f}, p = {4:.3f}'.format(r , lcl, ucl , r2, p))"
   ]
  },
  {
   "cell_type": "code",
   "execution_count": null,
   "metadata": {},
   "outputs": [],
   "source": [
    "r , lcl, ucl , r2, p = corr_spearman(combined_stats['Pmax']['50%'], \n",
    "                                      combined_stats['PIP']['50%'])\n",
    "print('r = {0:.2f}, lcl = {1:.2f}, ucl = {2:.2f}, r2 = {3:.2f}, p = {4:.3f}'.format(r , lcl, ucl , r2, p))"
   ]
  },
  {
   "cell_type": "markdown",
   "metadata": {},
   "source": [
    "### Resample data to get the 1-minute medians and 1-hourly medians"
   ]
  },
  {
   "cell_type": "code",
   "execution_count": null,
   "metadata": {},
   "outputs": [],
   "source": [
    "def transform_1(dframe):\n",
    "    a = dframe.reset_index(0)\n",
    "    return a.resample('1min').median()"
   ]
  },
  {
   "cell_type": "code",
   "execution_count": null,
   "metadata": {},
   "outputs": [],
   "source": [
    "def transform_2(dframe):\n",
    "    a = dframe.reset_index(0)\n",
    "    return a.resample('1H').median()"
   ]
  },
  {
   "cell_type": "code",
   "execution_count": null,
   "metadata": {},
   "outputs": [],
   "source": [
    "%%time\n",
    "\n",
    "slow_measurements_all_1min_median = grouped.apply(transform_1)"
   ]
  },
  {
   "cell_type": "code",
   "execution_count": null,
   "metadata": {
    "scrolled": true
   },
   "outputs": [],
   "source": [
    "slow_measurements_all_1min_median.head()"
   ]
  },
  {
   "cell_type": "code",
   "execution_count": null,
   "metadata": {},
   "outputs": [],
   "source": [
    "%%time\n",
    "\n",
    "slow_measurements_all_1hour_median = grouped.apply(transform_2)"
   ]
  },
  {
   "cell_type": "code",
   "execution_count": null,
   "metadata": {},
   "outputs": [],
   "source": [
    "slow_measurements_all_1hour_median.head()"
   ]
  },
  {
   "cell_type": "code",
   "execution_count": null,
   "metadata": {},
   "outputs": [],
   "source": [
    "print(recordings)"
   ]
  },
  {
   "cell_type": "code",
   "execution_count": null,
   "metadata": {},
   "outputs": [],
   "source": [
    "slow_measurements_all.head()"
   ]
  },
  {
   "cell_type": "code",
   "execution_count": null,
   "metadata": {},
   "outputs": [],
   "source": [
    "slow_measurements_all_1min_median.head()"
   ]
  },
  {
   "cell_type": "code",
   "execution_count": null,
   "metadata": {
    "scrolled": true
   },
   "outputs": [],
   "source": [
    "slow_measurements_all_1hour_median.head()"
   ]
  },
  {
   "cell_type": "markdown",
   "metadata": {},
   "source": [
    "### Export PIP and VTmand graphs as images"
   ]
  },
  {
   "cell_type": "code",
   "execution_count": null,
   "metadata": {},
   "outputs": [],
   "source": [
    "# PIP and Pmax, 1/sec data\n",
    "\n",
    "for recording in recordings:\n",
    "\n",
    "    print('Saving images for %s' % recording)\n",
    "    rec = recording\n",
    "    filetype = 'jpg'\n",
    "    dpi = 300\n",
    "    \n",
    "    fig = plt.figure()\n",
    "    fig.set_size_inches(8, 4)\n",
    "    fig.subplots_adjust(left=None, bottom=0.2, right=None, top=None, wspace=None, hspace=None)\n",
    "    ax = fig.add_subplot(1, 1, 1)\n",
    "\n",
    "    slow_measurements[rec]['PIP'].plot(ax = ax, color = 'red')\n",
    "    slow_measurements[rec]['Pmax'].plot(ax = ax, color = 'black', \n",
    "                                linewidth = 2, linestyle = '--')\n",
    "\n",
    "    import matplotlib.dates as mdates\n",
    "    myFmt = mdates.DateFormatter('%H:%M')\n",
    "    #ax.xaxis.set_major_formatter(myFmt)\n",
    "    plt.xticks(rotation=0)\n",
    "\n",
    "    ax.set_ylim(0, slow_measurements[rec]['Pmax'].max() + 10)\n",
    "    ax.set_xlabel('time', size = 12, color = 'black')\n",
    "    ax.set_ylabel('mbar', size = 12, color = 'black')\n",
    "    ax.set_title('%s' % rec,  size = 12, color = 'black')\n",
    "    ax.legend(['PIP', 'Pmax'], fontsize = 12)\n",
    "    ax.grid('on', linestyle='-', linewidth=0.5, color = 'gray')\n",
    "    ax.tick_params(which = 'both', labelsize=12)\n",
    "    plt.tight_layout()\n",
    "    plt.close()\n",
    "\n",
    "    fig.savefig('%s/%s_%s_%s.%s' % (DATA_DUMP, rec,  'PIP_Pmax', '1sec', filetype),\n",
    "            dpi = dpi, facecolor='w', edgecolor='w', orientation='portrait', papertype=None, format = filetype,\n",
    "            transparent=False, bbox_inches=None, pad_inches=0.1, frameon=True);\n",
    "                                                       "
   ]
  },
  {
   "cell_type": "code",
   "execution_count": null,
   "metadata": {},
   "outputs": [],
   "source": [
    "# VTmand and VTset, 1/sec data\n",
    "\n",
    "for recording in recordings:\n",
    "\n",
    "    print('Saving images for %s' % recording)\n",
    "    rec = recording\n",
    "    filetype = 'pdf'\n",
    "    dpi = 200\n",
    "    \n",
    "    fig = plt.figure()\n",
    "    fig.set_size_inches(8, 4)\n",
    "    fig.subplots_adjust(left=None, bottom=0.2, right=None, top=None, wspace=None, hspace=None)\n",
    "    ax = fig.add_subplot(1, 1, 1)\n",
    "\n",
    "    slow_measurements[rec]['VTmand_kg'].plot(ax = ax, color = 'blue')\n",
    "    slow_measurements[rec]['VTset_kg'].plot(ax = ax, color = 'black', \n",
    "                                linewidth = 2, linestyle = '--')\n",
    "\n",
    "    import matplotlib.dates as mdates\n",
    "    myFmt = mdates.DateFormatter('%H:%M')\n",
    "    #ax.xaxis.set_major_formatter(myFmt)\n",
    "    plt.xticks(rotation=0)\n",
    "\n",
    "    ax.set_ylim(0, slow_measurements[rec]['VTmand_kg'].max() + 10)\n",
    "    ax.set_xlabel('time', size = 12, color = 'black')\n",
    "    ax.set_ylabel('mL/kg', size = 12, color = 'black')\n",
    "    ax.set_title('%s' % rec,  size = 12, color = 'black')\n",
    "    ax.legend(['VTmand', 'VTset'], fontsize = 12)\n",
    "    ax.grid('on', linestyle='-', linewidth=0.5, color = 'gray')\n",
    "    ax.tick_params(which = 'both', labelsize=12)\n",
    "    plt.tight_layout()\n",
    "    plt.close()\n",
    "\n",
    "    fig.savefig('%s/%s_%s_%s.%s' % (DATA_DUMP, rec,  'VTmand_VTset', '1sec', filetype),\n",
    "            dpi = dpi, facecolor='w', edgecolor='w', orientation='portrait', papertype=None, format = filetype,\n",
    "            transparent=False, bbox_inches=None, pad_inches=0.1, frameon=True);\n",
    "                                                       "
   ]
  },
  {
   "cell_type": "code",
   "execution_count": null,
   "metadata": {},
   "outputs": [],
   "source": [
    "# PIP and Pmax, 1-minute medians\n",
    "\n",
    "for recording in recordings:\n",
    "\n",
    "    print('Saving images for %s' % recording)\n",
    "    rec = recording\n",
    "    filetype = 'pdf'\n",
    "    dpi = 200\n",
    "\n",
    "    fig = plt.figure()\n",
    "    fig.set_size_inches(8, 4)\n",
    "    fig.subplots_adjust(left=None, bottom=0.2, right=None, top=None, wspace=None, hspace=None)\n",
    "    ax = fig.add_subplot(1, 1, 1)\n",
    "\n",
    "    slow_measurements_all_1min_median.loc[rec]['PIP'].plot(ax = ax, color = 'red')\n",
    "    slow_measurements_all_1min_median.loc[rec]['Pmax'].plot(ax = ax, color = 'black', \n",
    "                                linewidth = 2, linestyle = '--')\n",
    "    plt.xticks(rotation=0)\n",
    "\n",
    "    ax.set_ylim(0, slow_measurements_all_1min_median.loc[rec]['Pmax'].max() + 10)\n",
    "    ax.set_xlabel('time', size = 12, color = 'black')\n",
    "    ax.set_ylabel('mbar', size = 12, color = 'black')\n",
    "    ax.set_title('%s' % rec,  size = 12, color = 'black')\n",
    "    ax.legend(['PIP', 'Pmax'], fontsize = 12)\n",
    "    ax.grid('on', linestyle='-', linewidth=0.5, color = 'gray')\n",
    "    ax.tick_params(which = 'both', labelsize=12)\n",
    "    plt.tight_layout()\n",
    "    plt.close()\n",
    "\n",
    "    fig.savefig('%s/%s_%s_%s.%s' % (DATA_DUMP, rec,  'PIP_Pmax', '1min_med', filetype),\n",
    "            dpi = dpi, facecolor='w', edgecolor='w', orientation='portrait', papertype=None, format = filetype,\n",
    "            transparent=False, bbox_inches=None, pad_inches=0.1, frameon=True);\n",
    "                                                       "
   ]
  },
  {
   "cell_type": "code",
   "execution_count": null,
   "metadata": {},
   "outputs": [],
   "source": [
    "# VTmand and VTset, 1-minute medians\n",
    "\n",
    "for recording in recordings:\n",
    "\n",
    "    print('Saving images for %s' % recording)\n",
    "    rec = recording\n",
    "    filetype = 'jpg'\n",
    "    dpi = 400\n",
    "\n",
    "    fig = plt.figure()\n",
    "    fig.set_size_inches(8, 4)\n",
    "    fig.subplots_adjust(left=None, bottom=0.2, right=None, top=None, wspace=None, hspace=None)\n",
    "    ax = fig.add_subplot(1, 1, 1)\n",
    "\n",
    "    slow_measurements_all_1min_median.loc[rec]['VTmand_kg'].plot(ax = ax, color = 'blue')\n",
    "    slow_measurements_all_1min_median.loc[rec]['VTset_kg'].plot(ax = ax, color = 'black', \n",
    "                                linewidth = 2, linestyle = '--')\n",
    "    plt.xticks(rotation=0)\n",
    "\n",
    "    ax.set_ylim(0, slow_measurements_all_1min_median.loc[rec]['VTmand_kg'].max() + 8)\n",
    "    ax.set_xlabel('time', size = 12, color = 'black')\n",
    "    ax.set_ylabel('mL/kg', size = 12, color = 'black')\n",
    "    ax.set_title('%s' % rec,  size = 12, color = 'black')\n",
    "    ax.legend(['VTmand', 'VTset'], fontsize = 12)\n",
    "    ax.grid('on', linestyle='-', linewidth=0.5, color = 'gray')\n",
    "    ax.tick_params(which = 'both', labelsize=12)\n",
    "    plt.tight_layout()\n",
    "    plt.close()\n",
    "\n",
    "    fig.savefig('%s/%s_%s_%s.%s' % (DATA_DUMP, rec,  'VTmand_VTset', '1min_med', filetype),\n",
    "            dpi = dpi, facecolor='w', edgecolor='w', orientation='portrait', papertype=None, format = filetype,\n",
    "            transparent=False, bbox_inches=None, pad_inches=0.1, frameon=True);\n",
    "                                                       "
   ]
  },
  {
   "cell_type": "code",
   "execution_count": null,
   "metadata": {},
   "outputs": [],
   "source": [
    "# PIP and Pmax, 1-hour medians\n",
    "\n",
    "for recording in recordings:\n",
    "\n",
    "    print('Saving images for %s' % recording)\n",
    "    rec = recording\n",
    "    filetype = 'pdf'\n",
    "    dpi = 200\n",
    "\n",
    "    fig = plt.figure()\n",
    "    fig.set_size_inches(8, 4)\n",
    "    fig.subplots_adjust(left=None, bottom=0.2, right=None, top=None, wspace=None, hspace=None)\n",
    "    ax = fig.add_subplot(1, 1, 1)\n",
    "\n",
    "    slow_measurements_all_1hour_median.loc[rec]['PIP'].plot(ax = ax, color = 'red')\n",
    "    slow_measurements_all_1hour_median.loc[rec]['Pmax'].plot(ax = ax, color = 'black', \n",
    "                                linewidth = 2, linestyle = '--')\n",
    "\n",
    "    plt.xticks(rotation=0)\n",
    "    ax.set_ylim(0, slow_measurements_all_1hour_median.loc[rec]['Pmax'].max() + 10)\n",
    "    ax.set_xlabel('time', size = 12, color = 'black')\n",
    "    ax.set_ylabel('mbar', size = 12, color = 'black')\n",
    "    ax.set_title('%s' % rec,  size = 12, color = 'black')\n",
    "    ax.legend(['PIP', 'Pmax'], fontsize = 12)\n",
    "    ax.grid('on', linestyle='-', linewidth=0.5, color = 'gray')\n",
    "    ax.tick_params(which = 'both', labelsize=12)\n",
    "    plt.tight_layout()\n",
    "    plt.close()\n",
    "\n",
    "    fig.savefig('%s/%s_%s_%s.%s' % (DATA_DUMP, rec,  'PIP_Pmax', '1hour_med', filetype),\n",
    "            dpi = dpi, facecolor='w', edgecolor='w', orientation='portrait', papertype=None, format = filetype,\n",
    "            transparent=False, bbox_inches=None, pad_inches=0.1, frameon=True);\n",
    "                                                       "
   ]
  },
  {
   "cell_type": "code",
   "execution_count": null,
   "metadata": {},
   "outputs": [],
   "source": [
    "# VTmand and VTset, 1-hour medians\n",
    "\n",
    "for recording in recordings:\n",
    "\n",
    "    print('Saving images for %s' % recording)\n",
    "    rec = recording\n",
    "    filetype = 'pdf'\n",
    "    dpi = 200\n",
    "\n",
    "    fig = plt.figure()\n",
    "    fig.set_size_inches(8, 4)\n",
    "    fig.subplots_adjust(left=None, bottom=0.2, right=None, top=None, wspace=None, hspace=None)\n",
    "    ax = fig.add_subplot(1, 1, 1)\n",
    "\n",
    "    slow_measurements_all_1hour_median.loc[rec]['VTmand_kg'].plot(ax = ax, color = 'blue')\n",
    "    slow_measurements_all_1hour_median.loc[rec]['VTset_kg'].plot(ax = ax, color = 'black', \n",
    "                                linewidth = 2, linestyle = '--')\n",
    "\n",
    "    plt.xticks(rotation=0)\n",
    "    ax.set_ylim(0, slow_measurements_all_1hour_median.loc[rec]['VTmand_kg'].max() + 10)\n",
    "    ax.set_xlabel('time', size = 12, color = 'black')\n",
    "    ax.set_ylabel('mL/kg', size = 12, color = 'black')\n",
    "    ax.set_title('%s' % rec,  size = 12, color = 'black')\n",
    "    ax.legend(['VTmand', 'VTset'], fontsize = 12)\n",
    "    ax.grid('on', linestyle='-', linewidth=0.5, color = 'gray')\n",
    "    ax.tick_params(which = 'both', labelsize=12)\n",
    "    plt.tight_layout()\n",
    "    plt.close()\n",
    "\n",
    "    fig.savefig('%s/%s_%s_%s.%s' % (DATA_DUMP, rec,  'VTmand_VTset', '1hour_med', filetype),\n",
    "            dpi = dpi, facecolor='w', edgecolor='w', orientation='portrait', papertype=None, format = filetype,\n",
    "            transparent=False, bbox_inches=None, pad_inches=0.1, frameon=True);\n",
    "                                                       "
   ]
  },
  {
   "cell_type": "markdown",
   "metadata": {},
   "source": [
    "### Calculate Pmax for every hour as a the mode of the previous hour's PIP + 5 mbar"
   ]
  },
  {
   "cell_type": "code",
   "execution_count": null,
   "metadata": {},
   "outputs": [],
   "source": [
    "# input - df: a Dataframe, chunkSize: the chunk size\n",
    "# output - a list of DataFrames\n",
    "# purpose - splits the DataFrame into smaller of max size chunkSize (last is smaller)\n",
    "def splitDataFrameIntoSmaller(df, chunkSize): \n",
    "    listOfDf = []\n",
    "    numberChunks = len(df) // chunkSize + 1\n",
    "    for i in range(numberChunks):\n",
    "        listOfDf.append(df[i*chunkSize:(i+1)*chunkSize].copy())\n",
    "    return listOfDf"
   ]
  },
  {
   "cell_type": "code",
   "execution_count": null,
   "metadata": {},
   "outputs": [],
   "source": [
    "def Pmax_emulator(frame, window = 3600, overPIP = 5):\n",
    "    aa = splitDataFrameIntoSmaller(frame[['PIP', 'Pmax', 'P_diff']], window)\n",
    "    aa[0]['Pmax_calc'] = aa[0]['Pmax'] # for the first hour keep the original Pmax\n",
    "    for i in range(len(aa)-1): # the last hour's mode does not need to be calculated\n",
    "        aa[i+1]['Pmax_calc'] = (aa[i]['PIP'].value_counts().argmax() + overPIP)\n",
    "    \n",
    "    return aa"
   ]
  },
  {
   "cell_type": "code",
   "execution_count": null,
   "metadata": {},
   "outputs": [],
   "source": [
    "def Pdiff_calculator(dframes):\n",
    "    \n",
    "    '''\n",
    "    dframes = collection of DataFrames\n",
    "    \n",
    "    '''\n",
    "    frame_list = list(dframes)\n",
    "    Pdiff_list = []\n",
    "    for frame in frame_list:\n",
    "        Pdiff = list(frame['Pmax_calc'] - frame['PIP'])\n",
    "        Pdiff_list.extend(Pdiff)\n",
    "    return Pdiff_list    "
   ]
  },
  {
   "cell_type": "raw",
   "metadata": {
    "scrolled": false
   },
   "source": [
    "Pmax_hit = {}\n",
    "\n",
    "# 5-15 over PEEP\n",
    "# 2-24 hourly changes \n",
    "\n",
    "for i in np.arange(5,16):\n",
    "\n",
    "    Pmax_hit[i] = {}\n",
    "    overPIP = i\n",
    "    print('..emulating Pmax %d over PIP' % i)\n",
    "    \n",
    "    for j in np.arange(2, 25, 2):\n",
    "        print('....emulating %d-hourly changes' % j)\n",
    "        window = j * 3600\n",
    "        \n",
    "        Pdiff_list_all = []\n",
    "        \n",
    "        for recording in recordings:\n",
    "            rec = grouped.get_group(recording)\n",
    "            Pdiff_list_all.extend(Pdiff_calculator(Pmax_emulator(rec, window, overPIP)))\n",
    "        Pmax_hit[i][j] = round((sum(np.array(Pdiff_list_all) <= 0) / len(slow_measurements_all)) * 100, 2)\n",
    "        print('PIP reaches Pmax in %d percent \\n' % Pmax_hit[i][j])\n",
    "    "
   ]
  },
  {
   "cell_type": "raw",
   "metadata": {},
   "source": [
    "with open('%s/%s.pickle' % (DATA_DUMP, 'Pmax_hit'), 'wb') as handle:\n",
    "    pickle.dump(Pmax_hit, handle, protocol=pickle.HIGHEST_PROTOCOL)"
   ]
  },
  {
   "cell_type": "raw",
   "metadata": {},
   "source": [
    "Pmax_hit_frame = DataFrame(Pmax_hit).T"
   ]
  },
  {
   "cell_type": "raw",
   "metadata": {},
   "source": [
    "# Write statistics into  Excel file\n",
    "\n",
    "writer = pd.ExcelWriter('%s/%s' % (DATA_DUMP, 'Pmax_hit_frame.xlsx'))\n",
    "Pmax_hit_frame.to_excel(writer, 'stats')\n",
    "writer.save()"
   ]
  },
  {
   "cell_type": "code",
   "execution_count": null,
   "metadata": {},
   "outputs": [],
   "source": [
    "Pmax_hit_frame = pd.read_excel('%s/Pmax_hit_frame.xlsx' % DIR_WRITE)"
   ]
  },
  {
   "cell_type": "code",
   "execution_count": null,
   "metadata": {},
   "outputs": [],
   "source": [
    "Pmax_hit_frame.index.name = 'Pmax set over PIP (mbar)'"
   ]
  },
  {
   "cell_type": "code",
   "execution_count": null,
   "metadata": {},
   "outputs": [],
   "source": [
    "Pmax_hit_frame.columns.name = 'Frequency of Pmax changes in hours'"
   ]
  },
  {
   "cell_type": "code",
   "execution_count": null,
   "metadata": {},
   "outputs": [],
   "source": [
    "Pmax_hit_frame"
   ]
  },
  {
   "cell_type": "code",
   "execution_count": null,
   "metadata": {},
   "outputs": [],
   "source": [
    "dpi = 300\n",
    "filetype = 'jpg'\n",
    "\n",
    "fig, ax = plt.subplots()\n",
    "plt.plot(Pmax_hit_frame.loc[5], marker = 'o', label = '5 mbar over PIP'); \n",
    "plt.plot(Pmax_hit_frame.loc[10], marker = 'o', label = '10 mbar over PIP'); \n",
    "plt.plot(Pmax_hit_frame.loc[15], marker = 'o', label = '15 mbar over PIP'); \n",
    "\n",
    "plt.ylim(0,17)\n",
    "plt.legend()\n",
    "\n",
    "plt.xlabel('Frequency of adjusting Pmax (hours)', size = 14)\n",
    "plt.ylabel('%', size = 14)\n",
    "plt.title('Percentage of inflations when Pmax was reached', size = 16)\n",
    "plt.grid('on')\n",
    "plt.tight_layout()\n",
    "\n",
    "fig.savefig('%s/%s.%s' % (DIR_WRITE,  'Pmax_hit_1',  filetype),\n",
    "            dpi = dpi, facecolor='w', edgecolor='w', orientation='portrait', papertype=None, format = filetype,\n",
    "            transparent=False, bbox_inches=None, pad_inches=0.1, frameon=True);"
   ]
  },
  {
   "cell_type": "code",
   "execution_count": null,
   "metadata": {},
   "outputs": [],
   "source": [
    "dpi = 300\n",
    "filetype = 'jpg'\n",
    "\n",
    "fig, ax = plt.subplots()\n",
    "plt.pcolor(Pmax_hit_frame, cmap =plt.get_cmap('Reds'))\n",
    "plt.xticks(np.arange(0.5, 12.5), Pmax_hit_frame.columns)\n",
    "plt.yticks(np.arange(0.5, 11.5), Pmax_hit_frame.index)\n",
    "plt.ylim(0, 11)\n",
    "plt.xlabel('Frequency of adjusting Pmax (hours)')\n",
    "plt.ylabel('Setting Pmax over PIP (mbar)')\n",
    "plt.title('Percentage of inflations when Pmax was reached')\n",
    "cb = plt.colorbar()\n",
    "cb.set_label('% of inflations')\n",
    "\n",
    "fig.savefig('%s/%s.%s' % (DIR_WRITE,  'Pmax_hit_2',  filetype),\n",
    "            dpi = dpi, facecolor='w', edgecolor='w', orientation='portrait', papertype=None, format = filetype,\n",
    "            transparent=False, bbox_inches=None, pad_inches=0.1, frameon=True);"
   ]
  },
  {
   "cell_type": "markdown",
   "metadata": {
    "collapsed": true
   },
   "source": [
    "## Tables and Figures for the paper"
   ]
  },
  {
   "cell_type": "markdown",
   "metadata": {},
   "source": [
    "### Tables"
   ]
  },
  {
   "cell_type": "markdown",
   "metadata": {},
   "source": [
    "#### Table 1"
   ]
  },
  {
   "cell_type": "code",
   "execution_count": null,
   "metadata": {
    "scrolled": false
   },
   "outputs": [],
   "source": [
    "clin_details_stats"
   ]
  },
  {
   "cell_type": "code",
   "execution_count": null,
   "metadata": {},
   "outputs": [],
   "source": [
    "writer = pd.ExcelWriter('%s/%s' % (DIR_WRITE, 'Table_1.xlsx'))\n",
    "clinical_details_stats.to_excel(writer,'Table_1')\n",
    "writer.save()"
   ]
  },
  {
   "cell_type": "code",
   "execution_count": null,
   "metadata": {},
   "outputs": [],
   "source": [
    "sum(np.floor(clinical_details['Gestation']) <= 27)"
   ]
  },
  {
   "cell_type": "code",
   "execution_count": null,
   "metadata": {},
   "outputs": [],
   "source": [
    "sum(np.floor(clinical_details['Gestation']) <= 32)"
   ]
  },
  {
   "cell_type": "code",
   "execution_count": null,
   "metadata": {},
   "outputs": [],
   "source": [
    "sum(np.floor(clinical_details['Gestation']) <= 36)"
   ]
  },
  {
   "cell_type": "markdown",
   "metadata": {},
   "source": [
    "______"
   ]
  },
  {
   "cell_type": "markdown",
   "metadata": {},
   "source": [
    "#### Table 2 / Supplementary Table 1"
   ]
  },
  {
   "cell_type": "code",
   "execution_count": null,
   "metadata": {},
   "outputs": [],
   "source": [
    "# Write statistics into  Excel file\n",
    "\n",
    "writer = pd.ExcelWriter('%s/%s' % (DIR_WRITE, 'Table_2_Supplementary_Table_1.xlsx'))\n",
    "combined_stats.to_excel(writer, 'stats')\n",
    "writer.save()"
   ]
  },
  {
   "cell_type": "markdown",
   "metadata": {},
   "source": [
    "#### Table 3"
   ]
  },
  {
   "cell_type": "code",
   "execution_count": null,
   "metadata": {},
   "outputs": [],
   "source": [
    "writer = pd.ExcelWriter('%s/%s' % (DIR_WRITE, 'Table_3.xlsx'))\n",
    "Pmax_hit_frame.to_excel(writer, 'Pmax_over_PIP')\n",
    "writer.save()"
   ]
  },
  {
   "cell_type": "markdown",
   "metadata": {},
   "source": [
    "### Figures"
   ]
  },
  {
   "cell_type": "markdown",
   "metadata": {
    "collapsed": true
   },
   "source": [
    "#### Figure 1"
   ]
  },
  {
   "cell_type": "code",
   "execution_count": null,
   "metadata": {
    "scrolled": true
   },
   "outputs": [],
   "source": [
    "rec = 'DG026'\n",
    "filetype = 'jpg'\n",
    "dpi = 200\n",
    "\n",
    "fig = plt.figure()\n",
    "fig.set_size_inches(8, 4)\n",
    "fig.subplots_adjust(left=None, bottom=0.2, right=None, top=None, wspace=None, hspace=None)\n",
    "ax = fig.add_subplot(1, 1, 1)\n",
    "\n",
    "slow_measurements[rec]['PIP'].plot(ax = ax, color = 'red')\n",
    "slow_measurements[rec]['Pmax'].plot(ax = ax, color = 'black', \n",
    "                                linewidth = 2, linestyle = '--')\n",
    "\n",
    "import matplotlib.dates as mdates\n",
    "myFmt = mdates.DateFormatter('%H:%M')\n",
    "plt.xticks(rotation=0)\n",
    "\n",
    "ax.set_ylim(0, slow_measurements[rec]['Pmax'].max() + 15)\n",
    "ax.set_xlabel('time', size = 12, color = 'black')\n",
    "ax.set_ylabel('mbar', size = 12, color = 'black')\n",
    "ax.set_title('%s' % rec,  size = 12, color = 'black')\n",
    "ax.legend(['PIP', 'Pmax'], fontsize = 12)\n",
    "ax.grid('on', linestyle='-', linewidth=0.5, color = 'gray')\n",
    "ax.tick_params(which = 'both', labelsize=12)\n",
    "plt.tight_layout()\n",
    "\n",
    "fig.savefig('%s/%s.%s' % (DIR_WRITE, 'Figure_1A', filetype),\n",
    "            dpi = dpi, facecolor='w', edgecolor='w', orientation='portrait', papertype=None, format = filetype,\n",
    "            transparent=False, bbox_inches=None, pad_inches=0.1, frameon=True);                                                                                                          "
   ]
  },
  {
   "cell_type": "code",
   "execution_count": null,
   "metadata": {},
   "outputs": [],
   "source": [
    "rec = 'DG026'\n",
    "filetype = 'jpg'\n",
    "dpi = 200\n",
    "\n",
    "fig = plt.figure()\n",
    "fig.set_size_inches(8, 4)\n",
    "fig.subplots_adjust(left=None, bottom=0.2, right=None, top=None, wspace=None, hspace=None)\n",
    "ax = fig.add_subplot(1, 1, 1)\n",
    "\n",
    "slow_measurements[rec]['VTmand_kg'].plot(ax = ax, color = 'blue')\n",
    "slow_measurements[rec]['VTset_kg'].plot(ax = ax, color = 'black', \n",
    "                                linewidth = 2, linestyle = '--')\n",
    "\n",
    "import matplotlib.dates as mdates\n",
    "myFmt = mdates.DateFormatter('%H:%M')\n",
    "plt.xticks(rotation=0)\n",
    "\n",
    "ax.set_ylim(0, slow_measurements[rec]['VTmand_kg'].max() + 10)\n",
    "ax.set_xlabel('time', size = 12, color = 'black')\n",
    "ax.set_ylabel('mL/kg', size = 12, color = 'black')\n",
    "ax.set_title('%s' % rec,  size = 12, color = 'black')\n",
    "ax.legend(['VTmand', 'VTset'], fontsize = 12)\n",
    "ax.grid('on', linestyle='-', linewidth=0.5, color = 'gray')\n",
    "ax.tick_params(which = 'both', labelsize=12)\n",
    "plt.tight_layout()\n",
    "\n",
    "fig.savefig('%s/%s.%s' % (DIR_WRITE, 'Figure_1B', filetype),\n",
    "            dpi = dpi, facecolor='w', edgecolor='w', orientation='portrait', papertype=None, format = filetype,\n",
    "            transparent=False, bbox_inches=None, pad_inches=0.1, frameon=True);                                                      "
   ]
  },
  {
   "cell_type": "code",
   "execution_count": null,
   "metadata": {},
   "outputs": [],
   "source": [
    "rec = 'DG026'\n",
    "filetype = 'jpg'\n",
    "dpi = 200\n",
    "\n",
    "fig = plt.figure()\n",
    "fig.set_size_inches(8, 4)\n",
    "fig.subplots_adjust(left=None, bottom=0.2, right=None, top=None, wspace=None, hspace=None)\n",
    "ax = fig.add_subplot(1, 1, 1)\n",
    "\n",
    "slow_measurements_all_1min_median.loc[rec]['PIP'].plot(ax = ax, color = 'red')\n",
    "slow_measurements_all_1min_median.loc[rec]['Pmax'].plot(ax = ax, color = 'black', \n",
    "                                linewidth = 2, linestyle = '--')\n",
    "\n",
    "ax.arrow(pd.to_datetime('2016-01-27 21:15:00'), 35, 0, -3, head_width=20, head_length=1, \n",
    "         color='black', linestyle='-', lw=2)\n",
    "ax.arrow(pd.to_datetime('2016-01-27 22:25:00'), 35, 0, -3, head_width=20, head_length=1, \n",
    "         color='black', linestyle='-', lw=2)\n",
    "ax.arrow(pd.to_datetime('2016-01-28 04:40:00'), 35, 0, -3, head_width=20, head_length=1, \n",
    "         color='black', linestyle='-', lw=2)\n",
    "ax.arrow(pd.to_datetime('2016-01-28 12:25:00'), 35, 0, -3, head_width=20, head_length=1, \n",
    "         color='black', linestyle='-', lw=2)\n",
    "ax.arrow(pd.to_datetime('2016-01-28 17:30:00'), 35, 0, -3, head_width=20, head_length=1, \n",
    "         color='black', linestyle='-', lw=2)\n",
    "ax.arrow(pd.to_datetime('2016-01-28 18:40:00'), 35, 0, -3, head_width=20, head_length=1, \n",
    "         color='black', linestyle='-', lw=2)\n",
    "ax.arrow(pd.to_datetime('2016-01-28 23:15:00'), 35, 0, -3, head_width=20, head_length=1, \n",
    "         color='black', linestyle='-', lw=2)\n",
    "ax.arrow(pd.to_datetime('2016-01-29 04:00:00'), 35, 0, -3, head_width=20, head_length=1, \n",
    "         color='black', linestyle='-', lw=2)\n",
    "\n",
    "\n",
    "plt.xticks(rotation=0)\n",
    "\n",
    "ax.set_ylim(0, slow_measurements_all_1min_median.loc[rec]['Pmax'].max() + 25)\n",
    "ax.set_xlabel('time', size = 12, color = 'black')\n",
    "ax.set_ylabel('mbar', size = 12, color = 'black')\n",
    "ax.set_title('%s' % rec,  size = 12, color = 'black')\n",
    "ax.legend(['PIP', 'Pmax'], fontsize = 12)\n",
    "ax.grid('on', linestyle='-', linewidth=0.5, color = 'gray')\n",
    "ax.tick_params(which = 'both', labelsize=12)\n",
    "plt.tight_layout()\n",
    "\n",
    "fig.savefig('%s/%s.%s' % (DIR_WRITE, 'Figure_1C', filetype),\n",
    "            dpi = dpi, facecolor='w', edgecolor='w', orientation='portrait', papertype=None, format = filetype,\n",
    "            transparent=False, bbox_inches=None, pad_inches=0.1, frameon=True);                                                      "
   ]
  },
  {
   "cell_type": "code",
   "execution_count": null,
   "metadata": {},
   "outputs": [],
   "source": [
    "rec = 'DG026'\n",
    "filetype = 'jpg'\n",
    "dpi = 200\n",
    "\n",
    "fig = plt.figure()\n",
    "fig.set_size_inches(8, 4)\n",
    "fig.subplots_adjust(left=None, bottom=0.2, right=None, top=None, wspace=None, hspace=None)\n",
    "ax = fig.add_subplot(1, 1, 1)\n",
    "\n",
    "slow_measurements_all_1min_median.loc[rec]['VTmand_kg'].plot(ax = ax, color = 'blue')\n",
    "slow_measurements_all_1min_median.loc[rec]['VTset_kg'].plot(ax = ax, color = 'black', \n",
    "                                linewidth = 2, linestyle = '--')\n",
    "\n",
    "\n",
    "ax.arrow(pd.to_datetime('2016-01-27 21:15:00'), 8, 0, -1, head_width=20, head_length=0.3, \n",
    "         color='black', linestyle='-', lw=2)\n",
    "ax.arrow(pd.to_datetime('2016-01-27 22:25:00'), 8, 0, -1, head_width=20, head_length=0.3, \n",
    "         color='black', linestyle='-', lw=2)\n",
    "ax.arrow(pd.to_datetime('2016-01-28 04:40:00'), 8, 0, -1, head_width=20, head_length=0.3, \n",
    "         color='black', linestyle='-', lw=2)\n",
    "ax.arrow(pd.to_datetime('2016-01-28 12:25:00'), 8, 0, -1, head_width=20, head_length=0.3, \n",
    "         color='black', linestyle='-', lw=2)\n",
    "ax.arrow(pd.to_datetime('2016-01-28 17:30:00'), 8, 0, -1, head_width=20, head_length=0.3, \n",
    "         color='black', linestyle='-', lw=2)\n",
    "ax.arrow(pd.to_datetime('2016-01-28 18:40:00'), 8, 0, -1, head_width=20, head_length=0.3, \n",
    "         color='black', linestyle='-', lw=2)\n",
    "ax.arrow(pd.to_datetime('2016-01-28 23:15:00'), 8, 0, -1, head_width=20, head_length=0.3, \n",
    "         color='black', linestyle='-', lw=2)\n",
    "ax.arrow(pd.to_datetime('2016-01-29 04:00:00'), 8, 0, -1, head_width=20, head_length=0.3, \n",
    "         color='black', linestyle='-', lw=2)\n",
    "\n",
    "\n",
    "import matplotlib.dates as mdates\n",
    "myFmt = mdates.DateFormatter('%H:%M')\n",
    "plt.xticks(rotation=0)\n",
    "\n",
    "ax.set_ylim(0, slow_measurements_all_1min_median.loc[rec]['VTmand_kg'].max() + 5)\n",
    "ax.set_xlabel('time', size = 12, color = 'black')\n",
    "ax.set_ylabel('mL/kg', size = 12, color = 'black')\n",
    "ax.set_title('%s' % rec,  size = 12, color = 'black')\n",
    "ax.legend(['VTmand', 'VTset'], fontsize = 12)\n",
    "ax.grid('on', linestyle='-', linewidth=0.5, color = 'gray')\n",
    "ax.tick_params(which = 'both', labelsize=12)\n",
    "plt.tight_layout()\n",
    "\n",
    "fig.savefig('%s/%s.%s' % (DIR_WRITE, 'Figure_1D', filetype),\n",
    "            dpi = dpi, facecolor='w', edgecolor='w', orientation='portrait', papertype=None, format = filetype,\n",
    "            transparent=False, bbox_inches=None, pad_inches=0.1, frameon=True);                                                      "
   ]
  },
  {
   "cell_type": "code",
   "execution_count": null,
   "metadata": {},
   "outputs": [],
   "source": [
    "rec = 'DG026'\n",
    "filetype = 'jpg'\n",
    "dpi = 200\n",
    "\n",
    "fig = plt.figure()\n",
    "fig.set_size_inches(8, 4)\n",
    "fig.subplots_adjust(left=None, bottom=0.2, right=None, top=None, wspace=None, hspace=None)\n",
    "ax = fig.add_subplot(1, 1, 1)\n",
    "\n",
    "slow_measurements_all_1hour_median.loc[rec]['PIP'].plot(ax = ax, color = 'red')\n",
    "slow_measurements_all_1hour_median.loc[rec]['Pmax'].plot(ax = ax, color = 'black', \n",
    "                                linewidth = 2, linestyle = '--')\n",
    "\n",
    "plt.xticks(rotation=0)\n",
    "ax.set_ylim(0, slow_measurements_all_1hour_median.loc[rec]['Pmax'].max() + 10)\n",
    "ax.set_xlabel('time', size = 12, color = 'black')\n",
    "ax.set_ylabel('mbar', size = 12, color = 'black')\n",
    "ax.set_title('%s' % rec,  size = 12, color = 'black')\n",
    "ax.legend(['PIP', 'Pmax'], fontsize = 12)\n",
    "ax.grid('on', linestyle='-', linewidth=0.5, color = 'gray')\n",
    "ax.tick_params(which = 'both', labelsize=12)\n",
    "plt.tight_layout()\n",
    "\n",
    "fig.savefig('%s/%s.%s' % (DIR_WRITE, 'Figure_1E', filetype),\n",
    "            dpi = dpi, facecolor='w', edgecolor='w', orientation='portrait', papertype=None, format = filetype,\n",
    "            transparent=False, bbox_inches=None, pad_inches=0.1, frameon=True);                                                      "
   ]
  },
  {
   "cell_type": "code",
   "execution_count": null,
   "metadata": {},
   "outputs": [],
   "source": [
    "rec = 'DG026'\n",
    "filetype = 'jpg'\n",
    "dpi = 200\n",
    "\n",
    "fig = plt.figure()\n",
    "fig.set_size_inches(8, 4)\n",
    "fig.subplots_adjust(left=None, bottom=0.2, right=None, top=None, wspace=None, hspace=None)\n",
    "ax = fig.add_subplot(1, 1, 1)\n",
    "\n",
    "slow_measurements_all_1hour_median.loc[rec]['VTmand_kg'].plot(ax = ax, color = 'blue')\n",
    "slow_measurements_all_1hour_median.loc[rec]['VTset_kg'].plot(ax = ax, color = 'black', \n",
    "                                linewidth = 2, linestyle = '--')\n",
    "\n",
    "import matplotlib.dates as mdates\n",
    "myFmt = mdates.DateFormatter('%H:%M')\n",
    "plt.xticks(rotation=0)\n",
    "\n",
    "ax.set_ylim(0, slow_measurements_all_1hour_median.loc[rec]['VTmand_kg'].max() + 5)\n",
    "ax.set_xlabel('time', size = 12, color = 'black')\n",
    "ax.set_ylabel('mL/kg', size = 12, color = 'black')\n",
    "ax.set_title('%s' % rec,  size = 12, color = 'black')\n",
    "ax.legend(['VTmand', 'VTset'], fontsize = 12)\n",
    "ax.grid('on', linestyle='-', linewidth=0.5, color = 'gray')\n",
    "ax.tick_params(which = 'both', labelsize=12)\n",
    "plt.tight_layout()\n",
    "\n",
    "fig.savefig('%s/%s.%s' % (DIR_WRITE, 'Figure_1F', filetype),\n",
    "            dpi = dpi, facecolor='w', edgecolor='w', orientation='portrait', papertype=None, format = filetype,\n",
    "            transparent=False, bbox_inches=None, pad_inches=0.1, frameon=True);"
   ]
  },
  {
   "cell_type": "markdown",
   "metadata": {},
   "source": [
    "#### Figure 2"
   ]
  },
  {
   "cell_type": "code",
   "execution_count": null,
   "metadata": {},
   "outputs": [],
   "source": [
    "labels = ['0-5', '5-10', '10-15', '10-15', '15-20', '20-25', '25-30']\n",
    "fig, ax = plt.subplots(figsize = [5,4])\n",
    "cats_P_diff.value_counts().sort_index().plot(kind = 'bar', logy = False, \n",
    "                        title = 'Pdiff', color = 'black', alpha = 0.7, fontsize = 14)\n",
    "ax.set_xlabel('range (mbar)', size = 14)\n",
    "ax.set_ylabel('number of inflations', size = 14)\n",
    "ax.set_xticklabels(labels, rotation = 'vertical')\n",
    "plt.title('Pdiff', fontsize = 16)\n",
    "plt.grid('on')\n",
    "plt.tight_layout()\n",
    "\n",
    "fig.savefig('%s/%s.%s' % (DIR_WRITE, 'Figure_2A', 'jpg'),\n",
    "    dpi = 200, facecolor='w', edgecolor='w', orientation='portrait', papertype=None, format = 'jpg',\n",
    "    transparent=False, bbox_inches=None, pad_inches=0.1, frameon=True);"
   ]
  },
  {
   "cell_type": "code",
   "execution_count": null,
   "metadata": {},
   "outputs": [],
   "source": [
    "dpi = 300\n",
    "filetype = 'jpg'\n",
    "xticklabels = ['0-5', '5-10', '10-15', '15-20', '20-25', '25-30']\n",
    "\n",
    "# Define styling for each boxplot component\n",
    "medianprops = {'color': 'black', 'linewidth': 2}\n",
    "boxprops = {'color': 'black', 'linestyle': '-'}\n",
    "whiskerprops = {'color': 'black', 'linestyle': '-'}\n",
    "capprops = {'color': 'black', 'linestyle': '-'}\n",
    "# flierprops = {'color': 'black', 'marker': 'x'}\n",
    "\n",
    "\n",
    "fig, ax = plt.subplots(figsize = (5,4))\n",
    "data = []\n",
    "for name, group in slow_measurements_all_binned_P_diff:\n",
    "    data.append(group['VT_diff'].values)\n",
    "plt.boxplot(data, whis = [5, 95], showfliers = False, \n",
    "        medianprops=medianprops, boxprops=boxprops, whiskerprops=whiskerprops, capprops=capprops,)\n",
    "\n",
    "plt.xticks(np.arange(1, len(data)+1), xticklabels, rotation = 'vertical')\n",
    "plt.xlabel('Pdiff (mbar)', size = 14)\n",
    "plt.ylabel('VTdiff (mL/kg)', size = 14)\n",
    "ax.tick_params(axis='both', which='major', labelsize=14)\n",
    "\n",
    "plt.grid('on')\n",
    "plt.tight_layout()\n",
    "\n",
    "fig.savefig('%s/%s.%s' % (DIR_WRITE,  'Figure_2B',  filetype),\n",
    "            dpi = dpi, facecolor='w', edgecolor='w', orientation='portrait', papertype=None, format = filetype,\n",
    "            transparent=False, bbox_inches=None, pad_inches=0.1, frameon=True);"
   ]
  },
  {
   "cell_type": "code",
   "execution_count": null,
   "metadata": {},
   "outputs": [],
   "source": [
    "labels = ['-4 - -3', '-3 - -2', '-2 - -1', '-1 - 0', '0 - 1', '1 - 2', '2 - 3', '3 - 4']\n",
    "fig, ax = plt.subplots(figsize = [8,6])\n",
    "cats_VTdiff.value_counts().sort_index().plot(kind = 'bar', logy = False, \n",
    "                        title = 'VT_diff', color = 'black', alpha = 0.7, fontsize = 14)\n",
    "ax.set_xlabel('range (mL/kg)', size = 14)\n",
    "ax.set_ylabel('number of inflations', size = 14)\n",
    "plt.title('VTdiff', fontsize = 16)\n",
    "plt.grid('on')\n",
    "plt.tight_layout()\n",
    "\n",
    "fig.savefig('%s/%s.%s' % (DIR_WRITE, 'Figure_2C', 'jpg'),\n",
    "    dpi = 200, facecolor='w', edgecolor='w', orientation='portrait', papertype=None, format = 'jpg',\n",
    "    transparent=False, bbox_inches=None, pad_inches=0.1, frameon=True);"
   ]
  },
  {
   "cell_type": "code",
   "execution_count": null,
   "metadata": {},
   "outputs": [],
   "source": [
    "dpi = 300\n",
    "filetype = 'jpg'\n",
    "xticklabels = ['-4 - -3', '-3 - -2', '-2 - -1', '-1 - 0', '0 - 1', '1 - 2', '2 - 3', '3 - 4']\n",
    "# Define styling for each boxplot component\n",
    "medianprops = {'color': 'black', 'linewidth': 2}\n",
    "boxprops = {'color': 'black', 'linestyle': '-'}\n",
    "whiskerprops = {'color': 'black', 'linestyle': '-'}\n",
    "capprops = {'color': 'black', 'linestyle': '-'}\n",
    "# flierprops = {'color': 'black', 'marker': 'x'}\n",
    "\n",
    "\n",
    "fig, ax = plt.subplots(figsize = (6,4))\n",
    "data = []\n",
    "for name, group in slow_measurements_all_binned_VT_diff:\n",
    "    data.append(group['PIP'].values)\n",
    "plt.boxplot(data, whis = [5, 95], showfliers = False,\n",
    "        medianprops=medianprops, boxprops=boxprops, whiskerprops=whiskerprops, capprops=capprops,)\n",
    "\n",
    "plt.xticks(np.arange(1, len(data)+1), xticklabels, rotation = 'vertical')\n",
    "plt.xlabel('VTdiff (mL/kg)', size = 14)\n",
    "plt.ylabel('PIP (mbar)', size = 14)\n",
    "ax.tick_params(axis='both', which='major', labelsize=14)\n",
    "\n",
    "plt.grid('on')\n",
    "plt.tight_layout()\n",
    "\n",
    "fig.savefig('%s/%s.%s' % (DIR_WRITE,  'Figure_2D',  filetype),\n",
    "            dpi = dpi, facecolor='w', edgecolor='w', orientation='portrait', papertype=None, format = filetype,\n",
    "            transparent=False, bbox_inches=None, pad_inches=0.1, frameon=True);"
   ]
  },
  {
   "cell_type": "markdown",
   "metadata": {},
   "source": [
    "### Figure 3"
   ]
  },
  {
   "cell_type": "code",
   "execution_count": null,
   "metadata": {},
   "outputs": [],
   "source": [
    "dpi = 1200\n",
    "filetype = 'jpg'\n",
    "\n",
    "fig, ax = plt.subplots()\n",
    "plt.plot(Pmax_hit_frame.loc[5], marker = 'o', label = '5 mbar over PIP'); \n",
    "plt.plot(Pmax_hit_frame.loc[10], marker = 'o', label = '10 mbar over PIP'); \n",
    "plt.plot(Pmax_hit_frame.loc[15], marker = 'o', label = '15 mbar over PIP'); \n",
    "\n",
    "plt.ylim(0,17)\n",
    "plt.legend()\n",
    "plt.xticks(Pmax_hit_frame.columns)\n",
    "plt.xlabel('Frequency of adjusting Pmax (hours)', size = 14)\n",
    "plt.ylabel('%', size = 14)\n",
    "plt.title('Percentage of inflations when Pmax was reached', size = 16)\n",
    "plt.grid('on')\n",
    "plt.tight_layout()\n",
    "\n",
    "fig.savefig('%s/%s.%s' % (DIR_WRITE,  'Figure_3',  filetype),\n",
    "            dpi = dpi, facecolor='w', edgecolor='w', orientation='portrait', papertype=None, format = filetype,\n",
    "            transparent=False, bbox_inches=None, pad_inches=0.1, frameon=True);"
   ]
  },
  {
   "cell_type": "markdown",
   "metadata": {
    "collapsed": true
   },
   "source": [
    "### Combined Figures for paper"
   ]
  },
  {
   "cell_type": "markdown",
   "metadata": {},
   "source": [
    "### Figure 1"
   ]
  },
  {
   "cell_type": "code",
   "execution_count": null,
   "metadata": {
    "scrolled": false
   },
   "outputs": [],
   "source": [
    "import matplotlib.dates as mdates\n",
    "myFmt = mdates.DateFormatter('%H:%M')\n",
    "dpi = 1200\n",
    "filetype = 'jpg'\n",
    "fig, ax = plt.subplots(3, 2, figsize = (10, 12))\n",
    "fig.subplots_adjust(left=None, bottom=None, right=None, top=None, hspace=0.2, wspace=0.3)\n",
    "\n",
    "rec = 'DG026'\n",
    "\n",
    "# Figure 1A\n",
    "slow_measurements[rec]['PIP'].plot(ax = ax[0, 0], color = 'red')\n",
    "slow_measurements[rec]['Pmax'].plot(ax = ax[0, 0], color = 'black', linewidth = 2, linestyle = '--')\n",
    "plt.xticks(rotation=0)\n",
    "ax[0, 0].set_ylim(0, slow_measurements[rec]['Pmax'].max() + 15)\n",
    "ax[0, 0].set_xlabel('', size = 12, color = 'black')\n",
    "ax[0, 0].set_ylabel('mbar', size = 12, color = 'black')\n",
    "ax[0, 0].legend(['PIP', 'Pmax'], fontsize = 12)\n",
    "ax[0, 0].grid('on', linestyle='-', linewidth=0.5, color = 'gray')\n",
    "ax[0, 0].tick_params(which = 'both', labelsize=12)\n",
    "\n",
    "# Figure 1B\n",
    "slow_measurements[rec]['VTmand_kg'].plot(ax = ax[0, 1], color = 'blue')\n",
    "slow_measurements[rec]['VTset_kg'].plot(ax = ax[0, 1], color = 'black', linewidth = 2, linestyle = '--')\n",
    "plt.xticks(rotation=0)\n",
    "ax[0, 1].set_ylim(0, slow_measurements[rec]['VTmand_kg'].max() + 10)\n",
    "ax[0, 1].set_xlabel('', size = 12, color = 'black')\n",
    "ax[0, 1].set_ylabel('mL/kg', size = 12, color = 'black')\n",
    "ax[0, 1].legend(['VTmand', 'VTset'], fontsize = 12)\n",
    "ax[0, 1].grid('on', linestyle='-', linewidth=0.5, color = 'gray')\n",
    "ax[0, 1].tick_params(which = 'both', labelsize=12)\n",
    "\n",
    "# Figure 1C\n",
    "slow_measurements_all_1min_median.loc[rec]['PIP'].plot(ax = ax[1,0], color = 'red')\n",
    "slow_measurements_all_1min_median.loc[rec]['Pmax'].plot(ax = ax[1,0], color = 'black', \n",
    "                                linewidth = 2, linestyle = '--')\n",
    "ax[1,0].arrow(pd.to_datetime('2016-01-27 21:15:00'), 35, 0, -3, head_width=20, head_length=1, \n",
    "         color='black', linestyle='-', lw=2)\n",
    "ax[1,0].arrow(pd.to_datetime('2016-01-27 22:25:00'), 35, 0, -3, head_width=20, head_length=1, \n",
    "         color='black', linestyle='-', lw=2)\n",
    "ax[1,0].arrow(pd.to_datetime('2016-01-28 04:40:00'), 35, 0, -3, head_width=20, head_length=1, \n",
    "         color='black', linestyle='-', lw=2)\n",
    "ax[1,0].arrow(pd.to_datetime('2016-01-28 12:25:00'), 35, 0, -3, head_width=20, head_length=1, \n",
    "         color='black', linestyle='-', lw=2)\n",
    "ax[1,0].arrow(pd.to_datetime('2016-01-28 17:30:00'), 35, 0, -3, head_width=20, head_length=1, \n",
    "         color='black', linestyle='-', lw=2)\n",
    "ax[1,0].arrow(pd.to_datetime('2016-01-28 18:40:00'), 35, 0, -3, head_width=20, head_length=1, \n",
    "         color='black', linestyle='-', lw=2)\n",
    "ax[1,0].arrow(pd.to_datetime('2016-01-28 23:15:00'), 35, 0, -3, head_width=20, head_length=1, \n",
    "         color='black', linestyle='-', lw=2)\n",
    "ax[1,0].arrow(pd.to_datetime('2016-01-29 04:00:00'), 35, 0, -3, head_width=20, head_length=1, \n",
    "         color='black', linestyle='-', lw=2)\n",
    "plt.xticks(rotation=0)\n",
    "ax[1,0].set_ylim(0, slow_measurements_all_1min_median.loc[rec]['Pmax'].max() + 25)\n",
    "ax[1,0].set_xlabel('', size = 12, color = 'black')\n",
    "ax[1,0].set_ylabel('mbar', size = 12, color = 'black')\n",
    "ax[1,0].legend(['PIP', 'Pmax'], fontsize = 12)\n",
    "ax[1,0].grid('on', linestyle='-', linewidth=0.5, color = 'gray')\n",
    "ax[1,0].tick_params(which = 'both', labelsize=12)\n",
    "\n",
    "\n",
    "# Figure 1D\n",
    "slow_measurements_all_1min_median.loc[rec]['VTmand_kg'].plot(ax = ax[1,1], color = 'blue')\n",
    "slow_measurements_all_1min_median.loc[rec]['VTset_kg'].plot(ax = ax[1,1], color = 'black', \n",
    "                                linewidth = 2, linestyle = '--')\n",
    "ax[1,1].arrow(pd.to_datetime('2016-01-27 21:15:00'), 8, 0, -1, head_width=20, head_length=0.3, \n",
    "         color='black', linestyle='-', lw=2)\n",
    "ax[1,1].arrow(pd.to_datetime('2016-01-27 22:25:00'), 8, 0, -1, head_width=20, head_length=0.3, \n",
    "         color='black', linestyle='-', lw=2)\n",
    "ax[1,1].arrow(pd.to_datetime('2016-01-28 04:40:00'), 8, 0, -1, head_width=20, head_length=0.3, \n",
    "         color='black', linestyle='-', lw=2)\n",
    "ax[1,1].arrow(pd.to_datetime('2016-01-28 12:25:00'), 8, 0, -1, head_width=20, head_length=0.3, \n",
    "         color='black', linestyle='-', lw=2)\n",
    "ax[1,1].arrow(pd.to_datetime('2016-01-28 17:30:00'), 8, 0, -1, head_width=20, head_length=0.3, \n",
    "         color='black', linestyle='-', lw=2)\n",
    "ax[1,1].arrow(pd.to_datetime('2016-01-28 18:40:00'), 8, 0, -1, head_width=20, head_length=0.3, \n",
    "         color='black', linestyle='-', lw=2)\n",
    "ax[1,1].arrow(pd.to_datetime('2016-01-28 23:15:00'), 8, 0, -1, head_width=20, head_length=0.3, \n",
    "         color='black', linestyle='-', lw=2)\n",
    "ax[1,1].arrow(pd.to_datetime('2016-01-29 04:00:00'), 8, 0, -1, head_width=20, head_length=0.3, \n",
    "         color='black', linestyle='-', lw=2)\n",
    "plt.xticks(rotation=0)\n",
    "ax[1,1].set_ylim(0, slow_measurements_all_1min_median.loc[rec]['VTmand_kg'].max() + 5)\n",
    "ax[1,1].set_xlabel('', size = 12, color = 'black')\n",
    "ax[1,1].set_ylabel('mL/kg', size = 12, color = 'black')\n",
    "ax[1,1].legend(['VTmand', 'VTset'], fontsize = 12)\n",
    "ax[1,1].grid('on', linestyle='-', linewidth=0.5, color = 'gray')\n",
    "ax[1,1].tick_params(which = 'both', labelsize=12)\n",
    "\n",
    "# Figure 1E\n",
    "slow_measurements_all_1hour_median.loc[rec]['PIP'].plot(ax = ax[2,0], color = 'red')\n",
    "slow_measurements_all_1hour_median.loc[rec]['Pmax'].plot(ax = ax[2,0], color = 'black', \n",
    "                                linewidth = 2, linestyle = '--')\n",
    "plt.xticks(rotation=0)\n",
    "ax[2,0].set_ylim(0, slow_measurements_all_1hour_median.loc[rec]['Pmax'].max() + 10)\n",
    "ax[2,0].set_xlabel('time (hours)', size = 12, color = 'black')\n",
    "ax[2,0].set_ylabel('mbar', size = 12, color = 'black')\n",
    "ax[2,0].legend(['PIP', 'Pmax'], fontsize = 12)\n",
    "ax[2,0].grid('on', linestyle='-', linewidth=0.5, color = 'gray')\n",
    "ax[2,0].tick_params(which = 'both', labelsize=12)\n",
    "\n",
    "# Figure 1F\n",
    "slow_measurements_all_1hour_median.loc[rec]['VTmand_kg'].plot(ax = ax[2,1], color = 'blue')\n",
    "slow_measurements_all_1hour_median.loc[rec]['VTset_kg'].plot(ax = ax[2,1], color = 'black', \n",
    "                                linewidth = 2, linestyle = '--')\n",
    "plt.xticks(rotation=0)\n",
    "ax[2,1].set_ylim(0, slow_measurements_all_1hour_median.loc[rec]['VTmand_kg'].max() + 5)\n",
    "ax[2,1].set_xlabel('time (hours)', size = 12, color = 'black')\n",
    "ax[2,1].set_ylabel('mL/kg', size = 12, color = 'black')\n",
    "ax[2,1].legend(['VTmand', 'VTset'], fontsize = 12)\n",
    "ax[2,1].grid('on', linestyle='-', linewidth=0.5, color = 'gray')\n",
    "ax[2,1].tick_params(which = 'both', labelsize=12)\n",
    "\n",
    "fig.text(0.01, 0.98, 'A', fontsize = 16); fig.text(0.01, 0.66, 'C', fontsize = 16)\n",
    "fig.text(0.01, 0.33, 'E', fontsize = 16)\n",
    "fig.text(0.51, 0.98, 'B', fontsize = 16); fig.text(0.51, 0.66, 'D', fontsize = 16)\n",
    "fig.text(0.51, 0.33, 'F', fontsize = 16)\n",
    "\n",
    "plt.tight_layout()\n",
    "\n",
    "fig.savefig('%s/%s.%s' % (DIR_WRITE, 'Figure_1', filetype),\n",
    "    dpi = dpi, facecolor='w', edgecolor='w', orientation='portrait', papertype=None, format = filetype,\n",
    "    transparent=False, bbox_inches=None, pad_inches=0.1, frameon=True);                                                                                                          "
   ]
  },
  {
   "cell_type": "markdown",
   "metadata": {},
   "source": [
    "### Figure 2"
   ]
  },
  {
   "cell_type": "code",
   "execution_count": null,
   "metadata": {},
   "outputs": [],
   "source": [
    "dpi = 1200\n",
    "filetype = 'jpg'\n",
    "\n",
    "Pdiff_labels = ['0-5', '5-10', '10-15', '10-15', '15-20', '20-25', '25-30']\n",
    "VTdiff_labels = ['-4 - -3', '-3 - -2', '-2 - -1', '-1 - 0', '0 - 1', '1 - 2', '2 - 3', '3 - 4']\n",
    "\n",
    "# Define styling for each boxplot component\n",
    "medianprops = {'color': 'black', 'linewidth': 2}\n",
    "boxprops = {'color': 'black', 'linestyle': '-'}\n",
    "whiskerprops = {'color': 'black', 'linestyle': '-'}\n",
    "capprops = {'color': 'black', 'linestyle': '-'}\n",
    "\n",
    "fig, ax = plt.subplots(2, 2, figsize = (10, 8))\n",
    "fig.subplots_adjust(left=0.2, bottom=0.2, right=None, top=None, hspace=0.2, wspace=0.5)\n",
    "\n",
    "# Figure 2A\n",
    "cats_P_diff.value_counts().sort_index().plot(ax = ax[0,0], kind = 'bar', logy = False, \n",
    "                        title = 'Pdiff', color = 'black', alpha = 0.6, fontsize = 14)\n",
    "ax[0,0].set_ylabel('number of inflations', size = 14)\n",
    "ax[0,0].set_xlabel('', size = 14)\n",
    "ax[0,0].set_xticklabels('', rotation = '90', size = 14)\n",
    "ax[0,0].set_ylim([0, 2500000])\n",
    "ax[0,0].set_title('', fontsize = 16)\n",
    "ax[0,0].grid('on')\n",
    "\n",
    "# Figure 2B\n",
    "data = []\n",
    "for name, group in slow_measurements_all_binned_P_diff:\n",
    "    data.append(group['VT_diff'].values)\n",
    "ax[1,0].boxplot(data, whis = [5, 95], showfliers = False, \n",
    "        medianprops=medianprops, boxprops=boxprops, whiskerprops=whiskerprops, capprops=capprops,)\n",
    "ax[1,0].set_xticks(np.arange(1, len(data)+1))\n",
    "ax[1,0].set_xticklabels(Pdiff_labels, rotation = '90', size = 14)\n",
    "ax[1,0].set_xlabel('Pdiff (mbar)', fontsize = 14)\n",
    "ax[1,0].set_ylabel('VTdiff (mL/kg)', size = 14)\n",
    "ax[1,0].grid('on')\n",
    "\n",
    "# Figure 2C\n",
    "cats_VTdiff.value_counts().sort_index().plot(ax = ax[0,1], kind = 'bar', logy = False, \n",
    "                        title = 'VT_diff', color = 'black', alpha = 0.6, fontsize = 14)\n",
    "ax[0,1].set_xticklabels('', rotation = '90', size = 14)\n",
    "ax[0,1].set_xlabel('', size = 14)\n",
    "ax[0,1].set_ylabel('', size = 14)\n",
    "ax[0,1].set_ylim([0, 2500000])\n",
    "ax[0,1].set_title('', fontsize = 16)\n",
    "ax[0,1].grid('on')\n",
    "\n",
    "# Figure 2D\n",
    "data = []\n",
    "for name, group in slow_measurements_all_binned_VT_diff:\n",
    "    data.append(group['PIP'].values)\n",
    "ax[1,1].boxplot(data, whis = [5, 95], showfliers = False,\n",
    "        medianprops=medianprops, boxprops=boxprops, whiskerprops=whiskerprops, capprops=capprops,)\n",
    "ax[1,1].set_xticks(np.arange(1, len(data)+1))\n",
    "ax[1,1].set_xticklabels(VTdiff_labels, rotation = '90', size = 14)\n",
    "ax[1,1].set_xlabel('VTdiff (mL/kg)', size = 14)\n",
    "ax[1,1].set_ylabel('PIP (mbar)', size = 14)\n",
    "ax[1,1].grid('on')\n",
    "\n",
    "fig.text(0.05, 0.96, 'A', fontsize = 16); fig.text(0.51, 0.96, 'C', fontsize = 16)\n",
    "fig.text(0.05, 0.53, 'B', fontsize = 16); fig.text(0.51, 0.53, 'D', fontsize = 16)\n",
    "\n",
    "fig.savefig('%s/%s.%s' % (DIR_WRITE, 'Figure_2', filetype),\n",
    "    dpi = dpi, facecolor='w', edgecolor='w', orientation='portrait', papertype=None, format = filetype,\n",
    "    transparent=False, bbox_inches=None, pad_inches=0.1, frameon=True);"
   ]
  },
  {
   "cell_type": "code",
   "execution_count": null,
   "metadata": {},
   "outputs": [],
   "source": []
  },
  {
   "cell_type": "code",
   "execution_count": null,
   "metadata": {},
   "outputs": [],
   "source": []
  }
 ],
 "metadata": {
  "anaconda-cloud": {},
  "kernelspec": {
   "display_name": "Python [conda root]",
   "language": "python",
   "name": "conda-root-py"
  },
  "language_info": {
   "codemirror_mode": {
    "name": "ipython",
    "version": 3
   },
   "file_extension": ".py",
   "mimetype": "text/x-python",
   "name": "python",
   "nbconvert_exporter": "python",
   "pygments_lexer": "ipython3",
   "version": "3.5.3"
  }
 },
 "nbformat": 4,
 "nbformat_minor": 1
}
